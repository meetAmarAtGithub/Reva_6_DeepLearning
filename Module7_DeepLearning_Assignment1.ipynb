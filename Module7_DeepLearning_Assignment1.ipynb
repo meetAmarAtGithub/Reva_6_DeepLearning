{
  "nbformat": 4,
  "nbformat_minor": 0,
  "metadata": {
    "colab": {
      "provenance": [],
      "collapsed_sections": [],
      "authorship_tag": "ABX9TyNbHPmDSdu0OHaZGCWd4mu8",
      "include_colab_link": true
    },
    "kernelspec": {
      "name": "python3",
      "display_name": "Python 3"
    },
    "language_info": {
      "name": "python"
    },
    "widgets": {
      "application/vnd.jupyter.widget-state+json": {
        "1513efe179fb4e6ea0561bafb6643658": {
          "model_module": "@jupyter-widgets/controls",
          "model_name": "HBoxModel",
          "model_module_version": "1.5.0",
          "state": {
            "_dom_classes": [],
            "_model_module": "@jupyter-widgets/controls",
            "_model_module_version": "1.5.0",
            "_model_name": "HBoxModel",
            "_view_count": null,
            "_view_module": "@jupyter-widgets/controls",
            "_view_module_version": "1.5.0",
            "_view_name": "HBoxView",
            "box_style": "",
            "children": [
              "IPY_MODEL_25a2419352ff4a9f93255d0b556054c7",
              "IPY_MODEL_83144e2155ad4e6b831c8cb72b30646c",
              "IPY_MODEL_12195ed4a20640b18d4a019b9a68bf92"
            ],
            "layout": "IPY_MODEL_6671930438b4413288ae36b6cc841fb3"
          }
        },
        "25a2419352ff4a9f93255d0b556054c7": {
          "model_module": "@jupyter-widgets/controls",
          "model_name": "HTMLModel",
          "model_module_version": "1.5.0",
          "state": {
            "_dom_classes": [],
            "_model_module": "@jupyter-widgets/controls",
            "_model_module_version": "1.5.0",
            "_model_name": "HTMLModel",
            "_view_count": null,
            "_view_module": "@jupyter-widgets/controls",
            "_view_module_version": "1.5.0",
            "_view_name": "HTMLView",
            "description": "",
            "description_tooltip": null,
            "layout": "IPY_MODEL_c255966c796e4cb08594a5bdadffd444",
            "placeholder": "​",
            "style": "IPY_MODEL_e6326881047b48f0b1c42a5d593a72d1",
            "value": "Downloading: 100%"
          }
        },
        "83144e2155ad4e6b831c8cb72b30646c": {
          "model_module": "@jupyter-widgets/controls",
          "model_name": "FloatProgressModel",
          "model_module_version": "1.5.0",
          "state": {
            "_dom_classes": [],
            "_model_module": "@jupyter-widgets/controls",
            "_model_module_version": "1.5.0",
            "_model_name": "FloatProgressModel",
            "_view_count": null,
            "_view_module": "@jupyter-widgets/controls",
            "_view_module_version": "1.5.0",
            "_view_name": "ProgressView",
            "bar_style": "success",
            "description": "",
            "description_tooltip": null,
            "layout": "IPY_MODEL_d8c435540acb467eb660c61104278625",
            "max": 908,
            "min": 0,
            "orientation": "horizontal",
            "style": "IPY_MODEL_16ef60cd22d74204b83031d42e8d3fde",
            "value": 908
          }
        },
        "12195ed4a20640b18d4a019b9a68bf92": {
          "model_module": "@jupyter-widgets/controls",
          "model_name": "HTMLModel",
          "model_module_version": "1.5.0",
          "state": {
            "_dom_classes": [],
            "_model_module": "@jupyter-widgets/controls",
            "_model_module_version": "1.5.0",
            "_model_name": "HTMLModel",
            "_view_count": null,
            "_view_module": "@jupyter-widgets/controls",
            "_view_module_version": "1.5.0",
            "_view_name": "HTMLView",
            "description": "",
            "description_tooltip": null,
            "layout": "IPY_MODEL_78a46544e6d341119204eb968aecc9cb",
            "placeholder": "​",
            "style": "IPY_MODEL_8bbe9c49f64a442f99c25ed6f1055369",
            "value": " 908/908 [00:00&lt;00:00, 19.0kB/s]"
          }
        },
        "6671930438b4413288ae36b6cc841fb3": {
          "model_module": "@jupyter-widgets/base",
          "model_name": "LayoutModel",
          "model_module_version": "1.2.0",
          "state": {
            "_model_module": "@jupyter-widgets/base",
            "_model_module_version": "1.2.0",
            "_model_name": "LayoutModel",
            "_view_count": null,
            "_view_module": "@jupyter-widgets/base",
            "_view_module_version": "1.2.0",
            "_view_name": "LayoutView",
            "align_content": null,
            "align_items": null,
            "align_self": null,
            "border": null,
            "bottom": null,
            "display": null,
            "flex": null,
            "flex_flow": null,
            "grid_area": null,
            "grid_auto_columns": null,
            "grid_auto_flow": null,
            "grid_auto_rows": null,
            "grid_column": null,
            "grid_gap": null,
            "grid_row": null,
            "grid_template_areas": null,
            "grid_template_columns": null,
            "grid_template_rows": null,
            "height": null,
            "justify_content": null,
            "justify_items": null,
            "left": null,
            "margin": null,
            "max_height": null,
            "max_width": null,
            "min_height": null,
            "min_width": null,
            "object_fit": null,
            "object_position": null,
            "order": null,
            "overflow": null,
            "overflow_x": null,
            "overflow_y": null,
            "padding": null,
            "right": null,
            "top": null,
            "visibility": null,
            "width": null
          }
        },
        "c255966c796e4cb08594a5bdadffd444": {
          "model_module": "@jupyter-widgets/base",
          "model_name": "LayoutModel",
          "model_module_version": "1.2.0",
          "state": {
            "_model_module": "@jupyter-widgets/base",
            "_model_module_version": "1.2.0",
            "_model_name": "LayoutModel",
            "_view_count": null,
            "_view_module": "@jupyter-widgets/base",
            "_view_module_version": "1.2.0",
            "_view_name": "LayoutView",
            "align_content": null,
            "align_items": null,
            "align_self": null,
            "border": null,
            "bottom": null,
            "display": null,
            "flex": null,
            "flex_flow": null,
            "grid_area": null,
            "grid_auto_columns": null,
            "grid_auto_flow": null,
            "grid_auto_rows": null,
            "grid_column": null,
            "grid_gap": null,
            "grid_row": null,
            "grid_template_areas": null,
            "grid_template_columns": null,
            "grid_template_rows": null,
            "height": null,
            "justify_content": null,
            "justify_items": null,
            "left": null,
            "margin": null,
            "max_height": null,
            "max_width": null,
            "min_height": null,
            "min_width": null,
            "object_fit": null,
            "object_position": null,
            "order": null,
            "overflow": null,
            "overflow_x": null,
            "overflow_y": null,
            "padding": null,
            "right": null,
            "top": null,
            "visibility": null,
            "width": null
          }
        },
        "e6326881047b48f0b1c42a5d593a72d1": {
          "model_module": "@jupyter-widgets/controls",
          "model_name": "DescriptionStyleModel",
          "model_module_version": "1.5.0",
          "state": {
            "_model_module": "@jupyter-widgets/controls",
            "_model_module_version": "1.5.0",
            "_model_name": "DescriptionStyleModel",
            "_view_count": null,
            "_view_module": "@jupyter-widgets/base",
            "_view_module_version": "1.2.0",
            "_view_name": "StyleView",
            "description_width": ""
          }
        },
        "d8c435540acb467eb660c61104278625": {
          "model_module": "@jupyter-widgets/base",
          "model_name": "LayoutModel",
          "model_module_version": "1.2.0",
          "state": {
            "_model_module": "@jupyter-widgets/base",
            "_model_module_version": "1.2.0",
            "_model_name": "LayoutModel",
            "_view_count": null,
            "_view_module": "@jupyter-widgets/base",
            "_view_module_version": "1.2.0",
            "_view_name": "LayoutView",
            "align_content": null,
            "align_items": null,
            "align_self": null,
            "border": null,
            "bottom": null,
            "display": null,
            "flex": null,
            "flex_flow": null,
            "grid_area": null,
            "grid_auto_columns": null,
            "grid_auto_flow": null,
            "grid_auto_rows": null,
            "grid_column": null,
            "grid_gap": null,
            "grid_row": null,
            "grid_template_areas": null,
            "grid_template_columns": null,
            "grid_template_rows": null,
            "height": null,
            "justify_content": null,
            "justify_items": null,
            "left": null,
            "margin": null,
            "max_height": null,
            "max_width": null,
            "min_height": null,
            "min_width": null,
            "object_fit": null,
            "object_position": null,
            "order": null,
            "overflow": null,
            "overflow_x": null,
            "overflow_y": null,
            "padding": null,
            "right": null,
            "top": null,
            "visibility": null,
            "width": null
          }
        },
        "16ef60cd22d74204b83031d42e8d3fde": {
          "model_module": "@jupyter-widgets/controls",
          "model_name": "ProgressStyleModel",
          "model_module_version": "1.5.0",
          "state": {
            "_model_module": "@jupyter-widgets/controls",
            "_model_module_version": "1.5.0",
            "_model_name": "ProgressStyleModel",
            "_view_count": null,
            "_view_module": "@jupyter-widgets/base",
            "_view_module_version": "1.2.0",
            "_view_name": "StyleView",
            "bar_color": null,
            "description_width": ""
          }
        },
        "78a46544e6d341119204eb968aecc9cb": {
          "model_module": "@jupyter-widgets/base",
          "model_name": "LayoutModel",
          "model_module_version": "1.2.0",
          "state": {
            "_model_module": "@jupyter-widgets/base",
            "_model_module_version": "1.2.0",
            "_model_name": "LayoutModel",
            "_view_count": null,
            "_view_module": "@jupyter-widgets/base",
            "_view_module_version": "1.2.0",
            "_view_name": "LayoutView",
            "align_content": null,
            "align_items": null,
            "align_self": null,
            "border": null,
            "bottom": null,
            "display": null,
            "flex": null,
            "flex_flow": null,
            "grid_area": null,
            "grid_auto_columns": null,
            "grid_auto_flow": null,
            "grid_auto_rows": null,
            "grid_column": null,
            "grid_gap": null,
            "grid_row": null,
            "grid_template_areas": null,
            "grid_template_columns": null,
            "grid_template_rows": null,
            "height": null,
            "justify_content": null,
            "justify_items": null,
            "left": null,
            "margin": null,
            "max_height": null,
            "max_width": null,
            "min_height": null,
            "min_width": null,
            "object_fit": null,
            "object_position": null,
            "order": null,
            "overflow": null,
            "overflow_x": null,
            "overflow_y": null,
            "padding": null,
            "right": null,
            "top": null,
            "visibility": null,
            "width": null
          }
        },
        "8bbe9c49f64a442f99c25ed6f1055369": {
          "model_module": "@jupyter-widgets/controls",
          "model_name": "DescriptionStyleModel",
          "model_module_version": "1.5.0",
          "state": {
            "_model_module": "@jupyter-widgets/controls",
            "_model_module_version": "1.5.0",
            "_model_name": "DescriptionStyleModel",
            "_view_count": null,
            "_view_module": "@jupyter-widgets/base",
            "_view_module_version": "1.2.0",
            "_view_name": "StyleView",
            "description_width": ""
          }
        },
        "7d84711c8732427ea7f54d5e9af82436": {
          "model_module": "@jupyter-widgets/controls",
          "model_name": "HBoxModel",
          "model_module_version": "1.5.0",
          "state": {
            "_dom_classes": [],
            "_model_module": "@jupyter-widgets/controls",
            "_model_module_version": "1.5.0",
            "_model_name": "HBoxModel",
            "_view_count": null,
            "_view_module": "@jupyter-widgets/controls",
            "_view_module_version": "1.5.0",
            "_view_name": "HBoxView",
            "box_style": "",
            "children": [
              "IPY_MODEL_a75ec4e5cee14826bbdc33ca27730ed6",
              "IPY_MODEL_2679c9c33af84845b6c37c6086eb2a72",
              "IPY_MODEL_42682192ab3b4ab0bfa86d07341fd4bd"
            ],
            "layout": "IPY_MODEL_95d87366595d434ab25e929d203fbfb0"
          }
        },
        "a75ec4e5cee14826bbdc33ca27730ed6": {
          "model_module": "@jupyter-widgets/controls",
          "model_name": "HTMLModel",
          "model_module_version": "1.5.0",
          "state": {
            "_dom_classes": [],
            "_model_module": "@jupyter-widgets/controls",
            "_model_module_version": "1.5.0",
            "_model_name": "HTMLModel",
            "_view_count": null,
            "_view_module": "@jupyter-widgets/controls",
            "_view_module_version": "1.5.0",
            "_view_name": "HTMLView",
            "description": "",
            "description_tooltip": null,
            "layout": "IPY_MODEL_3c82c38def6a48589eb4c642522a4b16",
            "placeholder": "​",
            "style": "IPY_MODEL_4e196e78a75e4fd48a2bdac6ab77b282",
            "value": "Downloading: 100%"
          }
        },
        "2679c9c33af84845b6c37c6086eb2a72": {
          "model_module": "@jupyter-widgets/controls",
          "model_name": "FloatProgressModel",
          "model_module_version": "1.5.0",
          "state": {
            "_dom_classes": [],
            "_model_module": "@jupyter-widgets/controls",
            "_model_module_version": "1.5.0",
            "_model_name": "FloatProgressModel",
            "_view_count": null,
            "_view_module": "@jupyter-widgets/controls",
            "_view_module_version": "1.5.0",
            "_view_name": "ProgressView",
            "bar_style": "success",
            "description": "",
            "description_tooltip": null,
            "layout": "IPY_MODEL_d913b3c28a174d218bd676aa646986fe",
            "max": 898823,
            "min": 0,
            "orientation": "horizontal",
            "style": "IPY_MODEL_53fca0ee9dd945908af250ef9b2c9300",
            "value": 898823
          }
        },
        "42682192ab3b4ab0bfa86d07341fd4bd": {
          "model_module": "@jupyter-widgets/controls",
          "model_name": "HTMLModel",
          "model_module_version": "1.5.0",
          "state": {
            "_dom_classes": [],
            "_model_module": "@jupyter-widgets/controls",
            "_model_module_version": "1.5.0",
            "_model_name": "HTMLModel",
            "_view_count": null,
            "_view_module": "@jupyter-widgets/controls",
            "_view_module_version": "1.5.0",
            "_view_name": "HTMLView",
            "description": "",
            "description_tooltip": null,
            "layout": "IPY_MODEL_4d5e4060e80e45f1b4332d8646a88a5b",
            "placeholder": "​",
            "style": "IPY_MODEL_cf5b6e9c0c4246e19d46a45028c3d29e",
            "value": " 899k/899k [00:00&lt;00:00, 902kB/s]"
          }
        },
        "95d87366595d434ab25e929d203fbfb0": {
          "model_module": "@jupyter-widgets/base",
          "model_name": "LayoutModel",
          "model_module_version": "1.2.0",
          "state": {
            "_model_module": "@jupyter-widgets/base",
            "_model_module_version": "1.2.0",
            "_model_name": "LayoutModel",
            "_view_count": null,
            "_view_module": "@jupyter-widgets/base",
            "_view_module_version": "1.2.0",
            "_view_name": "LayoutView",
            "align_content": null,
            "align_items": null,
            "align_self": null,
            "border": null,
            "bottom": null,
            "display": null,
            "flex": null,
            "flex_flow": null,
            "grid_area": null,
            "grid_auto_columns": null,
            "grid_auto_flow": null,
            "grid_auto_rows": null,
            "grid_column": null,
            "grid_gap": null,
            "grid_row": null,
            "grid_template_areas": null,
            "grid_template_columns": null,
            "grid_template_rows": null,
            "height": null,
            "justify_content": null,
            "justify_items": null,
            "left": null,
            "margin": null,
            "max_height": null,
            "max_width": null,
            "min_height": null,
            "min_width": null,
            "object_fit": null,
            "object_position": null,
            "order": null,
            "overflow": null,
            "overflow_x": null,
            "overflow_y": null,
            "padding": null,
            "right": null,
            "top": null,
            "visibility": null,
            "width": null
          }
        },
        "3c82c38def6a48589eb4c642522a4b16": {
          "model_module": "@jupyter-widgets/base",
          "model_name": "LayoutModel",
          "model_module_version": "1.2.0",
          "state": {
            "_model_module": "@jupyter-widgets/base",
            "_model_module_version": "1.2.0",
            "_model_name": "LayoutModel",
            "_view_count": null,
            "_view_module": "@jupyter-widgets/base",
            "_view_module_version": "1.2.0",
            "_view_name": "LayoutView",
            "align_content": null,
            "align_items": null,
            "align_self": null,
            "border": null,
            "bottom": null,
            "display": null,
            "flex": null,
            "flex_flow": null,
            "grid_area": null,
            "grid_auto_columns": null,
            "grid_auto_flow": null,
            "grid_auto_rows": null,
            "grid_column": null,
            "grid_gap": null,
            "grid_row": null,
            "grid_template_areas": null,
            "grid_template_columns": null,
            "grid_template_rows": null,
            "height": null,
            "justify_content": null,
            "justify_items": null,
            "left": null,
            "margin": null,
            "max_height": null,
            "max_width": null,
            "min_height": null,
            "min_width": null,
            "object_fit": null,
            "object_position": null,
            "order": null,
            "overflow": null,
            "overflow_x": null,
            "overflow_y": null,
            "padding": null,
            "right": null,
            "top": null,
            "visibility": null,
            "width": null
          }
        },
        "4e196e78a75e4fd48a2bdac6ab77b282": {
          "model_module": "@jupyter-widgets/controls",
          "model_name": "DescriptionStyleModel",
          "model_module_version": "1.5.0",
          "state": {
            "_model_module": "@jupyter-widgets/controls",
            "_model_module_version": "1.5.0",
            "_model_name": "DescriptionStyleModel",
            "_view_count": null,
            "_view_module": "@jupyter-widgets/base",
            "_view_module_version": "1.2.0",
            "_view_name": "StyleView",
            "description_width": ""
          }
        },
        "d913b3c28a174d218bd676aa646986fe": {
          "model_module": "@jupyter-widgets/base",
          "model_name": "LayoutModel",
          "model_module_version": "1.2.0",
          "state": {
            "_model_module": "@jupyter-widgets/base",
            "_model_module_version": "1.2.0",
            "_model_name": "LayoutModel",
            "_view_count": null,
            "_view_module": "@jupyter-widgets/base",
            "_view_module_version": "1.2.0",
            "_view_name": "LayoutView",
            "align_content": null,
            "align_items": null,
            "align_self": null,
            "border": null,
            "bottom": null,
            "display": null,
            "flex": null,
            "flex_flow": null,
            "grid_area": null,
            "grid_auto_columns": null,
            "grid_auto_flow": null,
            "grid_auto_rows": null,
            "grid_column": null,
            "grid_gap": null,
            "grid_row": null,
            "grid_template_areas": null,
            "grid_template_columns": null,
            "grid_template_rows": null,
            "height": null,
            "justify_content": null,
            "justify_items": null,
            "left": null,
            "margin": null,
            "max_height": null,
            "max_width": null,
            "min_height": null,
            "min_width": null,
            "object_fit": null,
            "object_position": null,
            "order": null,
            "overflow": null,
            "overflow_x": null,
            "overflow_y": null,
            "padding": null,
            "right": null,
            "top": null,
            "visibility": null,
            "width": null
          }
        },
        "53fca0ee9dd945908af250ef9b2c9300": {
          "model_module": "@jupyter-widgets/controls",
          "model_name": "ProgressStyleModel",
          "model_module_version": "1.5.0",
          "state": {
            "_model_module": "@jupyter-widgets/controls",
            "_model_module_version": "1.5.0",
            "_model_name": "ProgressStyleModel",
            "_view_count": null,
            "_view_module": "@jupyter-widgets/base",
            "_view_module_version": "1.2.0",
            "_view_name": "StyleView",
            "bar_color": null,
            "description_width": ""
          }
        },
        "4d5e4060e80e45f1b4332d8646a88a5b": {
          "model_module": "@jupyter-widgets/base",
          "model_name": "LayoutModel",
          "model_module_version": "1.2.0",
          "state": {
            "_model_module": "@jupyter-widgets/base",
            "_model_module_version": "1.2.0",
            "_model_name": "LayoutModel",
            "_view_count": null,
            "_view_module": "@jupyter-widgets/base",
            "_view_module_version": "1.2.0",
            "_view_name": "LayoutView",
            "align_content": null,
            "align_items": null,
            "align_self": null,
            "border": null,
            "bottom": null,
            "display": null,
            "flex": null,
            "flex_flow": null,
            "grid_area": null,
            "grid_auto_columns": null,
            "grid_auto_flow": null,
            "grid_auto_rows": null,
            "grid_column": null,
            "grid_gap": null,
            "grid_row": null,
            "grid_template_areas": null,
            "grid_template_columns": null,
            "grid_template_rows": null,
            "height": null,
            "justify_content": null,
            "justify_items": null,
            "left": null,
            "margin": null,
            "max_height": null,
            "max_width": null,
            "min_height": null,
            "min_width": null,
            "object_fit": null,
            "object_position": null,
            "order": null,
            "overflow": null,
            "overflow_x": null,
            "overflow_y": null,
            "padding": null,
            "right": null,
            "top": null,
            "visibility": null,
            "width": null
          }
        },
        "cf5b6e9c0c4246e19d46a45028c3d29e": {
          "model_module": "@jupyter-widgets/controls",
          "model_name": "DescriptionStyleModel",
          "model_module_version": "1.5.0",
          "state": {
            "_model_module": "@jupyter-widgets/controls",
            "_model_module_version": "1.5.0",
            "_model_name": "DescriptionStyleModel",
            "_view_count": null,
            "_view_module": "@jupyter-widgets/base",
            "_view_module_version": "1.2.0",
            "_view_name": "StyleView",
            "description_width": ""
          }
        },
        "4fcefabefb5a441280505c0bc46825eb": {
          "model_module": "@jupyter-widgets/controls",
          "model_name": "HBoxModel",
          "model_module_version": "1.5.0",
          "state": {
            "_dom_classes": [],
            "_model_module": "@jupyter-widgets/controls",
            "_model_module_version": "1.5.0",
            "_model_name": "HBoxModel",
            "_view_count": null,
            "_view_module": "@jupyter-widgets/controls",
            "_view_module_version": "1.5.0",
            "_view_name": "HBoxView",
            "box_style": "",
            "children": [
              "IPY_MODEL_3f67de4e7b6d4591b62755ebf4d89843",
              "IPY_MODEL_8f035c0f987049daab56bd2f14bcad1a",
              "IPY_MODEL_8f4291d8b10f4ba3935951d7881c99f4"
            ],
            "layout": "IPY_MODEL_9ef662b8e39941ec99086dcf07b28359"
          }
        },
        "3f67de4e7b6d4591b62755ebf4d89843": {
          "model_module": "@jupyter-widgets/controls",
          "model_name": "HTMLModel",
          "model_module_version": "1.5.0",
          "state": {
            "_dom_classes": [],
            "_model_module": "@jupyter-widgets/controls",
            "_model_module_version": "1.5.0",
            "_model_name": "HTMLModel",
            "_view_count": null,
            "_view_module": "@jupyter-widgets/controls",
            "_view_module_version": "1.5.0",
            "_view_name": "HTMLView",
            "description": "",
            "description_tooltip": null,
            "layout": "IPY_MODEL_a574d9392ced4882bd1d414801cb912a",
            "placeholder": "​",
            "style": "IPY_MODEL_37aca35c00dd44d096a78e912171cb68",
            "value": "Downloading: 100%"
          }
        },
        "8f035c0f987049daab56bd2f14bcad1a": {
          "model_module": "@jupyter-widgets/controls",
          "model_name": "FloatProgressModel",
          "model_module_version": "1.5.0",
          "state": {
            "_dom_classes": [],
            "_model_module": "@jupyter-widgets/controls",
            "_model_module_version": "1.5.0",
            "_model_name": "FloatProgressModel",
            "_view_count": null,
            "_view_module": "@jupyter-widgets/controls",
            "_view_module_version": "1.5.0",
            "_view_name": "ProgressView",
            "bar_style": "success",
            "description": "",
            "description_tooltip": null,
            "layout": "IPY_MODEL_3a300e106f48488e9c9bae55b564b61b",
            "max": 456318,
            "min": 0,
            "orientation": "horizontal",
            "style": "IPY_MODEL_43b8e1ecf0934dfda8b16790154c0f33",
            "value": 456318
          }
        },
        "8f4291d8b10f4ba3935951d7881c99f4": {
          "model_module": "@jupyter-widgets/controls",
          "model_name": "HTMLModel",
          "model_module_version": "1.5.0",
          "state": {
            "_dom_classes": [],
            "_model_module": "@jupyter-widgets/controls",
            "_model_module_version": "1.5.0",
            "_model_name": "HTMLModel",
            "_view_count": null,
            "_view_module": "@jupyter-widgets/controls",
            "_view_module_version": "1.5.0",
            "_view_name": "HTMLView",
            "description": "",
            "description_tooltip": null,
            "layout": "IPY_MODEL_21bde81980e741eeb9f1d321703355f6",
            "placeholder": "​",
            "style": "IPY_MODEL_3f0814d9886a4ea0832c6b204af648e7",
            "value": " 456k/456k [00:00&lt;00:00, 493kB/s]"
          }
        },
        "9ef662b8e39941ec99086dcf07b28359": {
          "model_module": "@jupyter-widgets/base",
          "model_name": "LayoutModel",
          "model_module_version": "1.2.0",
          "state": {
            "_model_module": "@jupyter-widgets/base",
            "_model_module_version": "1.2.0",
            "_model_name": "LayoutModel",
            "_view_count": null,
            "_view_module": "@jupyter-widgets/base",
            "_view_module_version": "1.2.0",
            "_view_name": "LayoutView",
            "align_content": null,
            "align_items": null,
            "align_self": null,
            "border": null,
            "bottom": null,
            "display": null,
            "flex": null,
            "flex_flow": null,
            "grid_area": null,
            "grid_auto_columns": null,
            "grid_auto_flow": null,
            "grid_auto_rows": null,
            "grid_column": null,
            "grid_gap": null,
            "grid_row": null,
            "grid_template_areas": null,
            "grid_template_columns": null,
            "grid_template_rows": null,
            "height": null,
            "justify_content": null,
            "justify_items": null,
            "left": null,
            "margin": null,
            "max_height": null,
            "max_width": null,
            "min_height": null,
            "min_width": null,
            "object_fit": null,
            "object_position": null,
            "order": null,
            "overflow": null,
            "overflow_x": null,
            "overflow_y": null,
            "padding": null,
            "right": null,
            "top": null,
            "visibility": null,
            "width": null
          }
        },
        "a574d9392ced4882bd1d414801cb912a": {
          "model_module": "@jupyter-widgets/base",
          "model_name": "LayoutModel",
          "model_module_version": "1.2.0",
          "state": {
            "_model_module": "@jupyter-widgets/base",
            "_model_module_version": "1.2.0",
            "_model_name": "LayoutModel",
            "_view_count": null,
            "_view_module": "@jupyter-widgets/base",
            "_view_module_version": "1.2.0",
            "_view_name": "LayoutView",
            "align_content": null,
            "align_items": null,
            "align_self": null,
            "border": null,
            "bottom": null,
            "display": null,
            "flex": null,
            "flex_flow": null,
            "grid_area": null,
            "grid_auto_columns": null,
            "grid_auto_flow": null,
            "grid_auto_rows": null,
            "grid_column": null,
            "grid_gap": null,
            "grid_row": null,
            "grid_template_areas": null,
            "grid_template_columns": null,
            "grid_template_rows": null,
            "height": null,
            "justify_content": null,
            "justify_items": null,
            "left": null,
            "margin": null,
            "max_height": null,
            "max_width": null,
            "min_height": null,
            "min_width": null,
            "object_fit": null,
            "object_position": null,
            "order": null,
            "overflow": null,
            "overflow_x": null,
            "overflow_y": null,
            "padding": null,
            "right": null,
            "top": null,
            "visibility": null,
            "width": null
          }
        },
        "37aca35c00dd44d096a78e912171cb68": {
          "model_module": "@jupyter-widgets/controls",
          "model_name": "DescriptionStyleModel",
          "model_module_version": "1.5.0",
          "state": {
            "_model_module": "@jupyter-widgets/controls",
            "_model_module_version": "1.5.0",
            "_model_name": "DescriptionStyleModel",
            "_view_count": null,
            "_view_module": "@jupyter-widgets/base",
            "_view_module_version": "1.2.0",
            "_view_name": "StyleView",
            "description_width": ""
          }
        },
        "3a300e106f48488e9c9bae55b564b61b": {
          "model_module": "@jupyter-widgets/base",
          "model_name": "LayoutModel",
          "model_module_version": "1.2.0",
          "state": {
            "_model_module": "@jupyter-widgets/base",
            "_model_module_version": "1.2.0",
            "_model_name": "LayoutModel",
            "_view_count": null,
            "_view_module": "@jupyter-widgets/base",
            "_view_module_version": "1.2.0",
            "_view_name": "LayoutView",
            "align_content": null,
            "align_items": null,
            "align_self": null,
            "border": null,
            "bottom": null,
            "display": null,
            "flex": null,
            "flex_flow": null,
            "grid_area": null,
            "grid_auto_columns": null,
            "grid_auto_flow": null,
            "grid_auto_rows": null,
            "grid_column": null,
            "grid_gap": null,
            "grid_row": null,
            "grid_template_areas": null,
            "grid_template_columns": null,
            "grid_template_rows": null,
            "height": null,
            "justify_content": null,
            "justify_items": null,
            "left": null,
            "margin": null,
            "max_height": null,
            "max_width": null,
            "min_height": null,
            "min_width": null,
            "object_fit": null,
            "object_position": null,
            "order": null,
            "overflow": null,
            "overflow_x": null,
            "overflow_y": null,
            "padding": null,
            "right": null,
            "top": null,
            "visibility": null,
            "width": null
          }
        },
        "43b8e1ecf0934dfda8b16790154c0f33": {
          "model_module": "@jupyter-widgets/controls",
          "model_name": "ProgressStyleModel",
          "model_module_version": "1.5.0",
          "state": {
            "_model_module": "@jupyter-widgets/controls",
            "_model_module_version": "1.5.0",
            "_model_name": "ProgressStyleModel",
            "_view_count": null,
            "_view_module": "@jupyter-widgets/base",
            "_view_module_version": "1.2.0",
            "_view_name": "StyleView",
            "bar_color": null,
            "description_width": ""
          }
        },
        "21bde81980e741eeb9f1d321703355f6": {
          "model_module": "@jupyter-widgets/base",
          "model_name": "LayoutModel",
          "model_module_version": "1.2.0",
          "state": {
            "_model_module": "@jupyter-widgets/base",
            "_model_module_version": "1.2.0",
            "_model_name": "LayoutModel",
            "_view_count": null,
            "_view_module": "@jupyter-widgets/base",
            "_view_module_version": "1.2.0",
            "_view_name": "LayoutView",
            "align_content": null,
            "align_items": null,
            "align_self": null,
            "border": null,
            "bottom": null,
            "display": null,
            "flex": null,
            "flex_flow": null,
            "grid_area": null,
            "grid_auto_columns": null,
            "grid_auto_flow": null,
            "grid_auto_rows": null,
            "grid_column": null,
            "grid_gap": null,
            "grid_row": null,
            "grid_template_areas": null,
            "grid_template_columns": null,
            "grid_template_rows": null,
            "height": null,
            "justify_content": null,
            "justify_items": null,
            "left": null,
            "margin": null,
            "max_height": null,
            "max_width": null,
            "min_height": null,
            "min_width": null,
            "object_fit": null,
            "object_position": null,
            "order": null,
            "overflow": null,
            "overflow_x": null,
            "overflow_y": null,
            "padding": null,
            "right": null,
            "top": null,
            "visibility": null,
            "width": null
          }
        },
        "3f0814d9886a4ea0832c6b204af648e7": {
          "model_module": "@jupyter-widgets/controls",
          "model_name": "DescriptionStyleModel",
          "model_module_version": "1.5.0",
          "state": {
            "_model_module": "@jupyter-widgets/controls",
            "_model_module_version": "1.5.0",
            "_model_name": "DescriptionStyleModel",
            "_view_count": null,
            "_view_module": "@jupyter-widgets/base",
            "_view_module_version": "1.2.0",
            "_view_name": "StyleView",
            "description_width": ""
          }
        },
        "a2ecd43e02014792aeeefcb67ff72704": {
          "model_module": "@jupyter-widgets/controls",
          "model_name": "HBoxModel",
          "model_module_version": "1.5.0",
          "state": {
            "_dom_classes": [],
            "_model_module": "@jupyter-widgets/controls",
            "_model_module_version": "1.5.0",
            "_model_name": "HBoxModel",
            "_view_count": null,
            "_view_module": "@jupyter-widgets/controls",
            "_view_module_version": "1.5.0",
            "_view_name": "HBoxView",
            "box_style": "",
            "children": [
              "IPY_MODEL_110ad5a6b09d4d57b3d87400df899f5e",
              "IPY_MODEL_62094d4a190646278b2fdd6a00150a0a",
              "IPY_MODEL_207efa4c9cb445a68bfd6468c1d17c39"
            ],
            "layout": "IPY_MODEL_c4ddcf0635fb452686b4b88708471201"
          }
        },
        "110ad5a6b09d4d57b3d87400df899f5e": {
          "model_module": "@jupyter-widgets/controls",
          "model_name": "HTMLModel",
          "model_module_version": "1.5.0",
          "state": {
            "_dom_classes": [],
            "_model_module": "@jupyter-widgets/controls",
            "_model_module_version": "1.5.0",
            "_model_name": "HTMLModel",
            "_view_count": null,
            "_view_module": "@jupyter-widgets/controls",
            "_view_module_version": "1.5.0",
            "_view_name": "HTMLView",
            "description": "",
            "description_tooltip": null,
            "layout": "IPY_MODEL_1b3188138d094db4b56899e792081dbb",
            "placeholder": "​",
            "style": "IPY_MODEL_f2a4da9b3f5f43a887ac540166fc69c8",
            "value": "Downloading: 100%"
          }
        },
        "62094d4a190646278b2fdd6a00150a0a": {
          "model_module": "@jupyter-widgets/controls",
          "model_name": "FloatProgressModel",
          "model_module_version": "1.5.0",
          "state": {
            "_dom_classes": [],
            "_model_module": "@jupyter-widgets/controls",
            "_model_module_version": "1.5.0",
            "_model_name": "FloatProgressModel",
            "_view_count": null,
            "_view_module": "@jupyter-widgets/controls",
            "_view_module_version": "1.5.0",
            "_view_name": "ProgressView",
            "bar_style": "success",
            "description": "",
            "description_tooltip": null,
            "layout": "IPY_MODEL_be1db6fdaf4d4c408519e1241d83a0b3",
            "max": 1629486723,
            "min": 0,
            "orientation": "horizontal",
            "style": "IPY_MODEL_6a44b80657c8415a9b82eed3217ad565",
            "value": 1629486723
          }
        },
        "207efa4c9cb445a68bfd6468c1d17c39": {
          "model_module": "@jupyter-widgets/controls",
          "model_name": "HTMLModel",
          "model_module_version": "1.5.0",
          "state": {
            "_dom_classes": [],
            "_model_module": "@jupyter-widgets/controls",
            "_model_module_version": "1.5.0",
            "_model_name": "HTMLModel",
            "_view_count": null,
            "_view_module": "@jupyter-widgets/controls",
            "_view_module_version": "1.5.0",
            "_view_name": "HTMLView",
            "description": "",
            "description_tooltip": null,
            "layout": "IPY_MODEL_d48766b8210644a1a3a012286664f9f3",
            "placeholder": "​",
            "style": "IPY_MODEL_6bfbf22d75ca4cb9ba23c961a43ed6c8",
            "value": " 1.63G/1.63G [01:25&lt;00:00, 22.7MB/s]"
          }
        },
        "c4ddcf0635fb452686b4b88708471201": {
          "model_module": "@jupyter-widgets/base",
          "model_name": "LayoutModel",
          "model_module_version": "1.2.0",
          "state": {
            "_model_module": "@jupyter-widgets/base",
            "_model_module_version": "1.2.0",
            "_model_name": "LayoutModel",
            "_view_count": null,
            "_view_module": "@jupyter-widgets/base",
            "_view_module_version": "1.2.0",
            "_view_name": "LayoutView",
            "align_content": null,
            "align_items": null,
            "align_self": null,
            "border": null,
            "bottom": null,
            "display": null,
            "flex": null,
            "flex_flow": null,
            "grid_area": null,
            "grid_auto_columns": null,
            "grid_auto_flow": null,
            "grid_auto_rows": null,
            "grid_column": null,
            "grid_gap": null,
            "grid_row": null,
            "grid_template_areas": null,
            "grid_template_columns": null,
            "grid_template_rows": null,
            "height": null,
            "justify_content": null,
            "justify_items": null,
            "left": null,
            "margin": null,
            "max_height": null,
            "max_width": null,
            "min_height": null,
            "min_width": null,
            "object_fit": null,
            "object_position": null,
            "order": null,
            "overflow": null,
            "overflow_x": null,
            "overflow_y": null,
            "padding": null,
            "right": null,
            "top": null,
            "visibility": null,
            "width": null
          }
        },
        "1b3188138d094db4b56899e792081dbb": {
          "model_module": "@jupyter-widgets/base",
          "model_name": "LayoutModel",
          "model_module_version": "1.2.0",
          "state": {
            "_model_module": "@jupyter-widgets/base",
            "_model_module_version": "1.2.0",
            "_model_name": "LayoutModel",
            "_view_count": null,
            "_view_module": "@jupyter-widgets/base",
            "_view_module_version": "1.2.0",
            "_view_name": "LayoutView",
            "align_content": null,
            "align_items": null,
            "align_self": null,
            "border": null,
            "bottom": null,
            "display": null,
            "flex": null,
            "flex_flow": null,
            "grid_area": null,
            "grid_auto_columns": null,
            "grid_auto_flow": null,
            "grid_auto_rows": null,
            "grid_column": null,
            "grid_gap": null,
            "grid_row": null,
            "grid_template_areas": null,
            "grid_template_columns": null,
            "grid_template_rows": null,
            "height": null,
            "justify_content": null,
            "justify_items": null,
            "left": null,
            "margin": null,
            "max_height": null,
            "max_width": null,
            "min_height": null,
            "min_width": null,
            "object_fit": null,
            "object_position": null,
            "order": null,
            "overflow": null,
            "overflow_x": null,
            "overflow_y": null,
            "padding": null,
            "right": null,
            "top": null,
            "visibility": null,
            "width": null
          }
        },
        "f2a4da9b3f5f43a887ac540166fc69c8": {
          "model_module": "@jupyter-widgets/controls",
          "model_name": "DescriptionStyleModel",
          "model_module_version": "1.5.0",
          "state": {
            "_model_module": "@jupyter-widgets/controls",
            "_model_module_version": "1.5.0",
            "_model_name": "DescriptionStyleModel",
            "_view_count": null,
            "_view_module": "@jupyter-widgets/base",
            "_view_module_version": "1.2.0",
            "_view_name": "StyleView",
            "description_width": ""
          }
        },
        "be1db6fdaf4d4c408519e1241d83a0b3": {
          "model_module": "@jupyter-widgets/base",
          "model_name": "LayoutModel",
          "model_module_version": "1.2.0",
          "state": {
            "_model_module": "@jupyter-widgets/base",
            "_model_module_version": "1.2.0",
            "_model_name": "LayoutModel",
            "_view_count": null,
            "_view_module": "@jupyter-widgets/base",
            "_view_module_version": "1.2.0",
            "_view_name": "LayoutView",
            "align_content": null,
            "align_items": null,
            "align_self": null,
            "border": null,
            "bottom": null,
            "display": null,
            "flex": null,
            "flex_flow": null,
            "grid_area": null,
            "grid_auto_columns": null,
            "grid_auto_flow": null,
            "grid_auto_rows": null,
            "grid_column": null,
            "grid_gap": null,
            "grid_row": null,
            "grid_template_areas": null,
            "grid_template_columns": null,
            "grid_template_rows": null,
            "height": null,
            "justify_content": null,
            "justify_items": null,
            "left": null,
            "margin": null,
            "max_height": null,
            "max_width": null,
            "min_height": null,
            "min_width": null,
            "object_fit": null,
            "object_position": null,
            "order": null,
            "overflow": null,
            "overflow_x": null,
            "overflow_y": null,
            "padding": null,
            "right": null,
            "top": null,
            "visibility": null,
            "width": null
          }
        },
        "6a44b80657c8415a9b82eed3217ad565": {
          "model_module": "@jupyter-widgets/controls",
          "model_name": "ProgressStyleModel",
          "model_module_version": "1.5.0",
          "state": {
            "_model_module": "@jupyter-widgets/controls",
            "_model_module_version": "1.5.0",
            "_model_name": "ProgressStyleModel",
            "_view_count": null,
            "_view_module": "@jupyter-widgets/base",
            "_view_module_version": "1.2.0",
            "_view_name": "StyleView",
            "bar_color": null,
            "description_width": ""
          }
        },
        "d48766b8210644a1a3a012286664f9f3": {
          "model_module": "@jupyter-widgets/base",
          "model_name": "LayoutModel",
          "model_module_version": "1.2.0",
          "state": {
            "_model_module": "@jupyter-widgets/base",
            "_model_module_version": "1.2.0",
            "_model_name": "LayoutModel",
            "_view_count": null,
            "_view_module": "@jupyter-widgets/base",
            "_view_module_version": "1.2.0",
            "_view_name": "LayoutView",
            "align_content": null,
            "align_items": null,
            "align_self": null,
            "border": null,
            "bottom": null,
            "display": null,
            "flex": null,
            "flex_flow": null,
            "grid_area": null,
            "grid_auto_columns": null,
            "grid_auto_flow": null,
            "grid_auto_rows": null,
            "grid_column": null,
            "grid_gap": null,
            "grid_row": null,
            "grid_template_areas": null,
            "grid_template_columns": null,
            "grid_template_rows": null,
            "height": null,
            "justify_content": null,
            "justify_items": null,
            "left": null,
            "margin": null,
            "max_height": null,
            "max_width": null,
            "min_height": null,
            "min_width": null,
            "object_fit": null,
            "object_position": null,
            "order": null,
            "overflow": null,
            "overflow_x": null,
            "overflow_y": null,
            "padding": null,
            "right": null,
            "top": null,
            "visibility": null,
            "width": null
          }
        },
        "6bfbf22d75ca4cb9ba23c961a43ed6c8": {
          "model_module": "@jupyter-widgets/controls",
          "model_name": "DescriptionStyleModel",
          "model_module_version": "1.5.0",
          "state": {
            "_model_module": "@jupyter-widgets/controls",
            "_model_module_version": "1.5.0",
            "_model_name": "DescriptionStyleModel",
            "_view_count": null,
            "_view_module": "@jupyter-widgets/base",
            "_view_module_version": "1.2.0",
            "_view_name": "StyleView",
            "description_width": ""
          }
        }
      }
    }
  },
  "cells": [
    {
      "cell_type": "markdown",
      "metadata": {
        "id": "view-in-github",
        "colab_type": "text"
      },
      "source": [
        "<a href=\"https://colab.research.google.com/github/meetAmarAtGithub/Reva_6_DeepLearning/blob/main/Module7_DeepLearning_Assignment1.ipynb\" target=\"_parent\"><img src=\"https://colab.research.google.com/assets/colab-badge.svg\" alt=\"Open In Colab\"/></a>"
      ]
    },
    {
      "cell_type": "code",
      "execution_count": 1,
      "metadata": {
        "id": "5mnXDhev2lJ8",
        "colab": {
          "base_uri": "https://localhost:8080/"
        },
        "outputId": "7e5ae1ef-07b7-4c69-f47f-620554d3d99f"
      },
      "outputs": [
        {
          "output_type": "stream",
          "name": "stdout",
          "text": [
            "Mounted at /content/gdrive\n"
          ]
        }
      ],
      "source": [
        "from google.colab import drive\n",
        "drive.mount('/content/gdrive')"
      ]
    },
    {
      "cell_type": "code",
      "source": [
        "%cd \"/content/gdrive/My Drive/Colab Notebooks/Reva/6_DeepLearning\""
      ],
      "metadata": {
        "colab": {
          "base_uri": "https://localhost:8080/"
        },
        "id": "6bqHouMhhH8h",
        "outputId": "41981dbe-987c-4907-e4a2-402e5759aefd"
      },
      "execution_count": 2,
      "outputs": [
        {
          "output_type": "stream",
          "name": "stdout",
          "text": [
            "/content/gdrive/My Drive/Colab Notebooks/Reva/6_DeepLearning\n"
          ]
        }
      ]
    },
    {
      "cell_type": "markdown",
      "source": [
        "# About Dataset\n",
        "\n",
        "This dataset consists of reviews of fine foods from amazon. The data span a period of more than 10 years, including all ~500,000 reviews up to October 2012. Reviews include product and user information, ratings, and a plain text review. It also includes reviews from all other Amazon categories.\n"
      ],
      "metadata": {
        "id": "tMGDFAOsjrNL"
      }
    },
    {
      "cell_type": "code",
      "source": [
        "\n",
        "import numpy as np # linear algebra\n",
        "import pandas as pd # data processing, CSV file I/O (e.g. pd.read_csv)\n",
        "import seaborn as sns\n",
        "import matplotlib.pyplot as plt\n",
        "import plotly.express as ex\n",
        "from numpy import argmax"
      ],
      "metadata": {
        "id": "MpgLJ4_xjttg"
      },
      "execution_count": 3,
      "outputs": []
    },
    {
      "cell_type": "code",
      "source": [
        "df = pd.read_csv('Amazon_Reviews.csv')"
      ],
      "metadata": {
        "id": "kbT0tFczjyZV"
      },
      "execution_count": 4,
      "outputs": []
    },
    {
      "cell_type": "markdown",
      "source": [
        "let's have a look at top 5 rows"
      ],
      "metadata": {
        "id": "Vah32iwPnG8F"
      }
    },
    {
      "cell_type": "code",
      "source": [
        "df.head(5)"
      ],
      "metadata": {
        "colab": {
          "base_uri": "https://localhost:8080/",
          "height": 337
        },
        "id": "20x4w4_fjycG",
        "outputId": "4186bd84-b040-46b5-a7b8-f35ae3bd8c02"
      },
      "execution_count": 5,
      "outputs": [
        {
          "output_type": "execute_result",
          "data": {
            "text/plain": [
              "   Id   ProductId          UserId                      ProfileName  \\\n",
              "0   1  B001E4KFG0  A3SGXH7AUHU8GW                       delmartian   \n",
              "1   2  B00813GRG4  A1D87F6ZCVE5NK                           dll pa   \n",
              "2   3  B000LQOCH0   ABXLMWJIXXAIN  Natalia Corres \"Natalia Corres\"   \n",
              "3   4  B000UA0QIQ  A395BORC6FGVXV                             Karl   \n",
              "4   5  B006K2ZZ7K  A1UQRSCLF8GW1T    Michael D. Bigham \"M. Wassir\"   \n",
              "\n",
              "   HelpfulnessNumerator  HelpfulnessDenominator  Score        Time  \\\n",
              "0                     1                       1      5  1303862400   \n",
              "1                     0                       0      1  1346976000   \n",
              "2                     1                       1      4  1219017600   \n",
              "3                     3                       3      2  1307923200   \n",
              "4                     0                       0      5  1350777600   \n",
              "\n",
              "                 Summary                                               Text  \n",
              "0  Good Quality Dog Food  I have bought several of the Vitality canned d...  \n",
              "1      Not as Advertised  Product arrived labeled as Jumbo Salted Peanut...  \n",
              "2  \"Delight\" says it all  This is a confection that has been around a fe...  \n",
              "3         Cough Medicine  If you are looking for the secret ingredient i...  \n",
              "4            Great taffy  Great taffy at a great price.  There was a wid...  "
            ],
            "text/html": [
              "\n",
              "  <div id=\"df-ca15cbdb-e698-499c-8da3-d7c0db3e7033\">\n",
              "    <div class=\"colab-df-container\">\n",
              "      <div>\n",
              "<style scoped>\n",
              "    .dataframe tbody tr th:only-of-type {\n",
              "        vertical-align: middle;\n",
              "    }\n",
              "\n",
              "    .dataframe tbody tr th {\n",
              "        vertical-align: top;\n",
              "    }\n",
              "\n",
              "    .dataframe thead th {\n",
              "        text-align: right;\n",
              "    }\n",
              "</style>\n",
              "<table border=\"1\" class=\"dataframe\">\n",
              "  <thead>\n",
              "    <tr style=\"text-align: right;\">\n",
              "      <th></th>\n",
              "      <th>Id</th>\n",
              "      <th>ProductId</th>\n",
              "      <th>UserId</th>\n",
              "      <th>ProfileName</th>\n",
              "      <th>HelpfulnessNumerator</th>\n",
              "      <th>HelpfulnessDenominator</th>\n",
              "      <th>Score</th>\n",
              "      <th>Time</th>\n",
              "      <th>Summary</th>\n",
              "      <th>Text</th>\n",
              "    </tr>\n",
              "  </thead>\n",
              "  <tbody>\n",
              "    <tr>\n",
              "      <th>0</th>\n",
              "      <td>1</td>\n",
              "      <td>B001E4KFG0</td>\n",
              "      <td>A3SGXH7AUHU8GW</td>\n",
              "      <td>delmartian</td>\n",
              "      <td>1</td>\n",
              "      <td>1</td>\n",
              "      <td>5</td>\n",
              "      <td>1303862400</td>\n",
              "      <td>Good Quality Dog Food</td>\n",
              "      <td>I have bought several of the Vitality canned d...</td>\n",
              "    </tr>\n",
              "    <tr>\n",
              "      <th>1</th>\n",
              "      <td>2</td>\n",
              "      <td>B00813GRG4</td>\n",
              "      <td>A1D87F6ZCVE5NK</td>\n",
              "      <td>dll pa</td>\n",
              "      <td>0</td>\n",
              "      <td>0</td>\n",
              "      <td>1</td>\n",
              "      <td>1346976000</td>\n",
              "      <td>Not as Advertised</td>\n",
              "      <td>Product arrived labeled as Jumbo Salted Peanut...</td>\n",
              "    </tr>\n",
              "    <tr>\n",
              "      <th>2</th>\n",
              "      <td>3</td>\n",
              "      <td>B000LQOCH0</td>\n",
              "      <td>ABXLMWJIXXAIN</td>\n",
              "      <td>Natalia Corres \"Natalia Corres\"</td>\n",
              "      <td>1</td>\n",
              "      <td>1</td>\n",
              "      <td>4</td>\n",
              "      <td>1219017600</td>\n",
              "      <td>\"Delight\" says it all</td>\n",
              "      <td>This is a confection that has been around a fe...</td>\n",
              "    </tr>\n",
              "    <tr>\n",
              "      <th>3</th>\n",
              "      <td>4</td>\n",
              "      <td>B000UA0QIQ</td>\n",
              "      <td>A395BORC6FGVXV</td>\n",
              "      <td>Karl</td>\n",
              "      <td>3</td>\n",
              "      <td>3</td>\n",
              "      <td>2</td>\n",
              "      <td>1307923200</td>\n",
              "      <td>Cough Medicine</td>\n",
              "      <td>If you are looking for the secret ingredient i...</td>\n",
              "    </tr>\n",
              "    <tr>\n",
              "      <th>4</th>\n",
              "      <td>5</td>\n",
              "      <td>B006K2ZZ7K</td>\n",
              "      <td>A1UQRSCLF8GW1T</td>\n",
              "      <td>Michael D. Bigham \"M. Wassir\"</td>\n",
              "      <td>0</td>\n",
              "      <td>0</td>\n",
              "      <td>5</td>\n",
              "      <td>1350777600</td>\n",
              "      <td>Great taffy</td>\n",
              "      <td>Great taffy at a great price.  There was a wid...</td>\n",
              "    </tr>\n",
              "  </tbody>\n",
              "</table>\n",
              "</div>\n",
              "      <button class=\"colab-df-convert\" onclick=\"convertToInteractive('df-ca15cbdb-e698-499c-8da3-d7c0db3e7033')\"\n",
              "              title=\"Convert this dataframe to an interactive table.\"\n",
              "              style=\"display:none;\">\n",
              "        \n",
              "  <svg xmlns=\"http://www.w3.org/2000/svg\" height=\"24px\"viewBox=\"0 0 24 24\"\n",
              "       width=\"24px\">\n",
              "    <path d=\"M0 0h24v24H0V0z\" fill=\"none\"/>\n",
              "    <path d=\"M18.56 5.44l.94 2.06.94-2.06 2.06-.94-2.06-.94-.94-2.06-.94 2.06-2.06.94zm-11 1L8.5 8.5l.94-2.06 2.06-.94-2.06-.94L8.5 2.5l-.94 2.06-2.06.94zm10 10l.94 2.06.94-2.06 2.06-.94-2.06-.94-.94-2.06-.94 2.06-2.06.94z\"/><path d=\"M17.41 7.96l-1.37-1.37c-.4-.4-.92-.59-1.43-.59-.52 0-1.04.2-1.43.59L10.3 9.45l-7.72 7.72c-.78.78-.78 2.05 0 2.83L4 21.41c.39.39.9.59 1.41.59.51 0 1.02-.2 1.41-.59l7.78-7.78 2.81-2.81c.8-.78.8-2.07 0-2.86zM5.41 20L4 18.59l7.72-7.72 1.47 1.35L5.41 20z\"/>\n",
              "  </svg>\n",
              "      </button>\n",
              "      \n",
              "  <style>\n",
              "    .colab-df-container {\n",
              "      display:flex;\n",
              "      flex-wrap:wrap;\n",
              "      gap: 12px;\n",
              "    }\n",
              "\n",
              "    .colab-df-convert {\n",
              "      background-color: #E8F0FE;\n",
              "      border: none;\n",
              "      border-radius: 50%;\n",
              "      cursor: pointer;\n",
              "      display: none;\n",
              "      fill: #1967D2;\n",
              "      height: 32px;\n",
              "      padding: 0 0 0 0;\n",
              "      width: 32px;\n",
              "    }\n",
              "\n",
              "    .colab-df-convert:hover {\n",
              "      background-color: #E2EBFA;\n",
              "      box-shadow: 0px 1px 2px rgba(60, 64, 67, 0.3), 0px 1px 3px 1px rgba(60, 64, 67, 0.15);\n",
              "      fill: #174EA6;\n",
              "    }\n",
              "\n",
              "    [theme=dark] .colab-df-convert {\n",
              "      background-color: #3B4455;\n",
              "      fill: #D2E3FC;\n",
              "    }\n",
              "\n",
              "    [theme=dark] .colab-df-convert:hover {\n",
              "      background-color: #434B5C;\n",
              "      box-shadow: 0px 1px 3px 1px rgba(0, 0, 0, 0.15);\n",
              "      filter: drop-shadow(0px 1px 2px rgba(0, 0, 0, 0.3));\n",
              "      fill: #FFFFFF;\n",
              "    }\n",
              "  </style>\n",
              "\n",
              "      <script>\n",
              "        const buttonEl =\n",
              "          document.querySelector('#df-ca15cbdb-e698-499c-8da3-d7c0db3e7033 button.colab-df-convert');\n",
              "        buttonEl.style.display =\n",
              "          google.colab.kernel.accessAllowed ? 'block' : 'none';\n",
              "\n",
              "        async function convertToInteractive(key) {\n",
              "          const element = document.querySelector('#df-ca15cbdb-e698-499c-8da3-d7c0db3e7033');\n",
              "          const dataTable =\n",
              "            await google.colab.kernel.invokeFunction('convertToInteractive',\n",
              "                                                     [key], {});\n",
              "          if (!dataTable) return;\n",
              "\n",
              "          const docLinkHtml = 'Like what you see? Visit the ' +\n",
              "            '<a target=\"_blank\" href=https://colab.research.google.com/notebooks/data_table.ipynb>data table notebook</a>'\n",
              "            + ' to learn more about interactive tables.';\n",
              "          element.innerHTML = '';\n",
              "          dataTable['output_type'] = 'display_data';\n",
              "          await google.colab.output.renderOutput(dataTable, element);\n",
              "          const docLink = document.createElement('div');\n",
              "          docLink.innerHTML = docLinkHtml;\n",
              "          element.appendChild(docLink);\n",
              "        }\n",
              "      </script>\n",
              "    </div>\n",
              "  </div>\n",
              "  "
            ]
          },
          "metadata": {},
          "execution_count": 5
        }
      ]
    },
    {
      "cell_type": "markdown",
      "source": [
        "## Columns :\n",
        "* ProductId - Unique identifier for the product\n",
        "* UserId - Unique identifier for the user\n",
        "* ProfileName - Profile name of User\n",
        "* HelpfulnessNumerator - Num of users who found review helpful\n",
        "* HelpfulnessDenomitaor - Number of users who indicated whether they found the review helpful or not\n",
        "* Score - Rating between 1 to 5\n",
        "* Time - Timestamp for the review\n",
        "* Summary - Bried summary of the review\n",
        "* Text - Text of the review"
      ],
      "metadata": {
        "id": "j4et-mMGnTZN"
      }
    },
    {
      "cell_type": "code",
      "source": [
        "df.shape"
      ],
      "metadata": {
        "colab": {
          "base_uri": "https://localhost:8080/"
        },
        "id": "PvKZ1JU2jye7",
        "outputId": "77c28556-31dc-4081-8faa-d6296610b161"
      },
      "execution_count": 6,
      "outputs": [
        {
          "output_type": "execute_result",
          "data": {
            "text/plain": [
              "(568454, 10)"
            ]
          },
          "metadata": {},
          "execution_count": 6
        }
      ]
    },
    {
      "cell_type": "markdown",
      "source": [
        "We have 10 columns and 568454 rows in our dataframe. Let's check for null values, if there is any."
      ],
      "metadata": {
        "id": "Eamh3vfUncFy"
      }
    },
    {
      "cell_type": "code",
      "source": [
        "df.isnull().sum()"
      ],
      "metadata": {
        "colab": {
          "base_uri": "https://localhost:8080/"
        },
        "id": "hdKZuvSXjyhz",
        "outputId": "c0e6e0de-eb31-42a5-a313-4c6c0dba0f01"
      },
      "execution_count": 7,
      "outputs": [
        {
          "output_type": "execute_result",
          "data": {
            "text/plain": [
              "Id                         0\n",
              "ProductId                  0\n",
              "UserId                     0\n",
              "ProfileName               16\n",
              "HelpfulnessNumerator       0\n",
              "HelpfulnessDenominator     0\n",
              "Score                      0\n",
              "Time                       0\n",
              "Summary                   27\n",
              "Text                       0\n",
              "dtype: int64"
            ]
          },
          "metadata": {},
          "execution_count": 7
        }
      ]
    },
    {
      "cell_type": "markdown",
      "source": [
        "As we see, There are missing values in 'PROFILENAME' and 'SUMMARY' column.\n",
        "\n",
        "Dropping null values."
      ],
      "metadata": {
        "id": "iGiO9ZlpnlBI"
      }
    },
    {
      "cell_type": "code",
      "source": [
        "df.dropna(inplace = True)\n",
        "# checking columns\n",
        "df.columns"
      ],
      "metadata": {
        "colab": {
          "base_uri": "https://localhost:8080/"
        },
        "id": "ObJjv86HjykG",
        "outputId": "305ac93b-427d-4d58-ab56-38c52375a4b8"
      },
      "execution_count": 8,
      "outputs": [
        {
          "output_type": "execute_result",
          "data": {
            "text/plain": [
              "Index(['Id', 'ProductId', 'UserId', 'ProfileName', 'HelpfulnessNumerator',\n",
              "       'HelpfulnessDenominator', 'Score', 'Time', 'Summary', 'Text'],\n",
              "      dtype='object')"
            ]
          },
          "metadata": {},
          "execution_count": 8
        }
      ]
    },
    {
      "cell_type": "code",
      "source": [
        "# checking info of the dataframe.\n",
        "df.info()"
      ],
      "metadata": {
        "colab": {
          "base_uri": "https://localhost:8080/"
        },
        "id": "VdXbp0pEjyqi",
        "outputId": "41f3d4cc-b057-40d4-d5f0-23fbb9d945b3"
      },
      "execution_count": 9,
      "outputs": [
        {
          "output_type": "stream",
          "name": "stdout",
          "text": [
            "<class 'pandas.core.frame.DataFrame'>\n",
            "Int64Index: 568411 entries, 0 to 568453\n",
            "Data columns (total 10 columns):\n",
            " #   Column                  Non-Null Count   Dtype \n",
            "---  ------                  --------------   ----- \n",
            " 0   Id                      568411 non-null  int64 \n",
            " 1   ProductId               568411 non-null  object\n",
            " 2   UserId                  568411 non-null  object\n",
            " 3   ProfileName             568411 non-null  object\n",
            " 4   HelpfulnessNumerator    568411 non-null  int64 \n",
            " 5   HelpfulnessDenominator  568411 non-null  int64 \n",
            " 6   Score                   568411 non-null  int64 \n",
            " 7   Time                    568411 non-null  int64 \n",
            " 8   Summary                 568411 non-null  object\n",
            " 9   Text                    568411 non-null  object\n",
            "dtypes: int64(5), object(5)\n",
            "memory usage: 47.7+ MB\n"
          ]
        }
      ]
    },
    {
      "cell_type": "code",
      "source": [
        "df['Score'].value_counts()"
      ],
      "metadata": {
        "colab": {
          "base_uri": "https://localhost:8080/"
        },
        "id": "2oB1cATvjyxw",
        "outputId": "fc84aa98-fd77-4626-e9ce-3ad1cb880cf1"
      },
      "execution_count": 10,
      "outputs": [
        {
          "output_type": "execute_result",
          "data": {
            "text/plain": [
              "5    363111\n",
              "4     80655\n",
              "1     52264\n",
              "3     42638\n",
              "2     29743\n",
              "Name: Score, dtype: int64"
            ]
          },
          "metadata": {},
          "execution_count": 10
        }
      ]
    },
    {
      "cell_type": "code",
      "source": [
        "sns.distplot(df['Time'],bins = 50)"
      ],
      "metadata": {
        "colab": {
          "base_uri": "https://localhost:8080/",
          "height": 362
        },
        "id": "EwHXFGHwnzkA",
        "outputId": "15e33f02-4205-46a1-a9e4-90e22e21c193"
      },
      "execution_count": 11,
      "outputs": [
        {
          "output_type": "stream",
          "name": "stderr",
          "text": [
            "/usr/local/lib/python3.7/dist-packages/seaborn/distributions.py:2619: FutureWarning: `distplot` is a deprecated function and will be removed in a future version. Please adapt your code to use either `displot` (a figure-level function with similar flexibility) or `histplot` (an axes-level function for histograms).\n",
            "  warnings.warn(msg, FutureWarning)\n"
          ]
        },
        {
          "output_type": "execute_result",
          "data": {
            "text/plain": [
              "<matplotlib.axes._subplots.AxesSubplot at 0x7f25c5a069d0>"
            ]
          },
          "metadata": {},
          "execution_count": 11
        },
        {
          "output_type": "display_data",
          "data": {
            "text/plain": [
              "<Figure size 432x288 with 1 Axes>"
            ],
            "image/png": "[encoded data removed]"
          },
          "metadata": {
            "needs_background": "light"
          }
        }
      ]
    },
    {
      "cell_type": "markdown",
      "source": [
        "Highest reviews by ProfileName."
      ],
      "metadata": {
        "id": "pfiN4-4SoDl2"
      }
    },
    {
      "cell_type": "code",
      "source": [
        "profilename = df['ProfileName'].value_counts().head(10)\n",
        "profilename"
      ],
      "metadata": {
        "colab": {
          "base_uri": "https://localhost:8080/"
        },
        "id": "j-gsvARwnzmk",
        "outputId": "a9d6b256-1ce4-4209-eb7a-4308670a4349"
      },
      "execution_count": 12,
      "outputs": [
        {
          "output_type": "execute_result",
          "data": {
            "text/plain": [
              "C. F. Hill \"CFH\"                          451\n",
              "O. Brown \"Ms. O. Khannah-Brown\"           421\n",
              "Gary Peterson                             389\n",
              "Rebecca of Amazon \"The Rebecca Review\"    365\n",
              "Chris                                     363\n",
              "Linda                                     290\n",
              "John                                      261\n",
              "Mike                                      260\n",
              "c2                                        256\n",
              "Laura                                     253\n",
              "Name: ProfileName, dtype: int64"
            ]
          },
          "metadata": {},
          "execution_count": 12
        }
      ]
    },
    {
      "cell_type": "code",
      "source": [
        "sns.barplot(y=profilename.index,x=profilename,palette='Blues_d')"
      ],
      "metadata": {
        "colab": {
          "base_uri": "https://localhost:8080/",
          "height": 296
        },
        "id": "ingX4d-DnzwY",
        "outputId": "056ff1ce-ec04-45ca-abc4-6bbe294e698f"
      },
      "execution_count": 13,
      "outputs": [
        {
          "output_type": "execute_result",
          "data": {
            "text/plain": [
              "<matplotlib.axes._subplots.AxesSubplot at 0x7f25c308eb10>"
            ]
          },
          "metadata": {},
          "execution_count": 13
        },
        {
          "output_type": "display_data",
          "data": {
            "text/plain": [
              "<Figure size 432x288 with 1 Axes>"
            ],
            "image/png": "[encoded data removed]"
          },
          "metadata": {
            "needs_background": "light"
          }
        }
      ]
    },
    {
      "cell_type": "markdown",
      "source": [
        "Highest review contribution by ProfileName "
      ],
      "metadata": {
        "id": "v8nfx1qIoabu"
      }
    },
    {
      "cell_type": "code",
      "source": [
        "profile = df.groupby('ProfileName').filter(lambda x : len(x) > 300 )\n",
        "len(profile)"
      ],
      "metadata": {
        "colab": {
          "base_uri": "https://localhost:8080/"
        },
        "id": "fvrBUqRQnzzf",
        "outputId": "d65c8380-ace8-4796-e493-6cee17a93104"
      },
      "execution_count": 14,
      "outputs": [
        {
          "output_type": "execute_result",
          "data": {
            "text/plain": [
              "1989"
            ]
          },
          "metadata": {},
          "execution_count": 14
        }
      ]
    },
    {
      "cell_type": "code",
      "source": [
        "profilegroup = profile.groupby('ProfileName')['Score'].count()\n",
        "profilegroup"
      ],
      "metadata": {
        "colab": {
          "base_uri": "https://localhost:8080/"
        },
        "id": "2ANlBiWkjzO6",
        "outputId": "4e4fca32-8b75-4009-a3e4-397867185bc8"
      },
      "execution_count": 15,
      "outputs": [
        {
          "output_type": "execute_result",
          "data": {
            "text/plain": [
              "ProfileName\n",
              "C. F. Hill \"CFH\"                          451\n",
              "Chris                                     363\n",
              "Gary Peterson                             389\n",
              "O. Brown \"Ms. O. Khannah-Brown\"           421\n",
              "Rebecca of Amazon \"The Rebecca Review\"    365\n",
              "Name: Score, dtype: int64"
            ]
          },
          "metadata": {},
          "execution_count": 15
        }
      ]
    },
    {
      "cell_type": "code",
      "source": [
        "plt.figure(figsize = (20,5))\n",
        "sns.countplot(x='ProfileName',hue = 'Score',data = profile,palette='Blues_d')"
      ],
      "metadata": {
        "colab": {
          "base_uri": "https://localhost:8080/",
          "height": 351
        },
        "id": "1_KO9bcgjzRq",
        "outputId": "59127cce-b6d9-47da-8054-44b2adc8050d"
      },
      "execution_count": 16,
      "outputs": [
        {
          "output_type": "execute_result",
          "data": {
            "text/plain": [
              "<matplotlib.axes._subplots.AxesSubplot at 0x7f25c307f950>"
            ]
          },
          "metadata": {},
          "execution_count": 16
        },
        {
          "output_type": "display_data",
          "data": {
            "text/plain": [
              "<Figure size 1440x360 with 1 Axes>"
            ],
            "image/png": "[encoded data removed]"
          },
          "metadata": {
            "needs_background": "light"
          }
        }
      ]
    },
    {
      "cell_type": "markdown",
      "source": [
        "## Rating Score Count."
      ],
      "metadata": {
        "id": "pGipMtSlpd8P"
      }
    },
    {
      "cell_type": "code",
      "source": [
        "sns.countplot(x='Score',data = df,palette='Blues_d',order = df['Score'].value_counts().index)"
      ],
      "metadata": {
        "colab": {
          "base_uri": "https://localhost:8080/",
          "height": 296
        },
        "id": "x_xW1pjmomTJ",
        "outputId": "2c1cca6f-223f-4b8f-b63d-5fdd7644ae88"
      },
      "execution_count": 17,
      "outputs": [
        {
          "output_type": "execute_result",
          "data": {
            "text/plain": [
              "<matplotlib.axes._subplots.AxesSubplot at 0x7f25c2acc0d0>"
            ]
          },
          "metadata": {},
          "execution_count": 17
        },
        {
          "output_type": "display_data",
          "data": {
            "text/plain": [
              "<Figure size 432x288 with 1 Axes>"
            ],
            "image/png": "[encoded data removed]"
          },
          "metadata": {
            "needs_background": "light"
          }
        }
      ]
    },
    {
      "cell_type": "markdown",
      "source": [
        "\n",
        "\n",
        "*   5 rating score with highest 350000+ reviews, followed by 4 with approx 70000 reviews.\n",
        "*   2 rating score with lowest count.\n",
        "\n",
        "\n"
      ],
      "metadata": {
        "id": "26tc93WYpzRi"
      }
    },
    {
      "cell_type": "markdown",
      "source": [
        "## Positive corealtion (HelpfulnessNumerator - HelpfulnessDenominator) "
      ],
      "metadata": {
        "id": "AtbOF3_WqIXt"
      }
    },
    {
      "cell_type": "code",
      "source": [
        "plt.figure(figsize = (10,7))\n",
        "sns.scatterplot(data=df,x='HelpfulnessNumerator',y='HelpfulnessDenominator')"
      ],
      "metadata": {
        "colab": {
          "base_uri": "https://localhost:8080/",
          "height": 459
        },
        "id": "3qButb-QqJXZ",
        "outputId": "2aa3a6e3-6cb7-49ba-e2a2-42326ad1274c"
      },
      "execution_count": 18,
      "outputs": [
        {
          "output_type": "execute_result",
          "data": {
            "text/plain": [
              "<matplotlib.axes._subplots.AxesSubplot at 0x7f25c2a94490>"
            ]
          },
          "metadata": {},
          "execution_count": 18
        },
        {
          "output_type": "display_data",
          "data": {
            "text/plain": [
              "<Figure size 720x504 with 1 Axes>"
            ],
            "image/png": "[encoded data removed]"
          },
          "metadata": {
            "needs_background": "light"
          }
        }
      ]
    },
    {
      "cell_type": "code",
      "source": [
        "sns.heatmap(df.corr(),annot = True,cmap='Blues_r')"
      ],
      "metadata": {
        "colab": {
          "base_uri": "https://localhost:8080/",
          "height": 400
        },
        "id": "DxlJG2eWomeq",
        "outputId": "3b38cbf0-9072-481b-bb30-4e02c01df5a8"
      },
      "execution_count": 19,
      "outputs": [
        {
          "output_type": "execute_result",
          "data": {
            "text/plain": [
              "<matplotlib.axes._subplots.AxesSubplot at 0x7f25c2ace4d0>"
            ]
          },
          "metadata": {},
          "execution_count": 19
        },
        {
          "output_type": "display_data",
          "data": {
            "text/plain": [
              "<Figure size 432x288 with 2 Axes>"
            ],
            "image/png": "[encoded data removed]"
          },
          "metadata": {
            "needs_background": "light"
          }
        }
      ]
    },
    {
      "cell_type": "markdown",
      "source": [
        "### Amazon Food Review Dataset using a zero shot model"
      ],
      "metadata": {
        "id": "IUArvqErq0Tx"
      }
    },
    {
      "cell_type": "code",
      "source": [
        "!pip install transformers==3.1.0"
      ],
      "metadata": {
        "colab": {
          "base_uri": "https://localhost:8080/"
        },
        "id": "jrK6zkG2hIRA",
        "outputId": "e39d419d-b0c6-43e4-f4c2-9ca9df562efd"
      },
      "execution_count": 20,
      "outputs": [
        {
          "output_type": "stream",
          "name": "stdout",
          "text": [
            "Looking in indexes: https://pypi.org/simple, https://us-python.pkg.dev/colab-wheels/public/simple/\n",
            "Collecting transformers==3.1.0\n",
            "  Downloading transformers-3.1.0-py3-none-any.whl (884 kB)\n",
            "\u001b[K     |████████████████████████████████| 884 kB 2.1 MB/s \n",
            "\u001b[?25hRequirement already satisfied: regex!=2019.12.17 in /usr/local/lib/python3.7/dist-packages (from transformers==3.1.0) (2022.6.2)\n",
            "Requirement already satisfied: numpy in /usr/local/lib/python3.7/dist-packages (from transformers==3.1.0) (1.21.6)\n",
            "Requirement already satisfied: requests in /usr/local/lib/python3.7/dist-packages (from transformers==3.1.0) (2.23.0)\n",
            "Requirement already satisfied: tqdm>=4.27 in /usr/local/lib/python3.7/dist-packages (from transformers==3.1.0) (4.64.1)\n",
            "Collecting sacremoses\n",
            "  Downloading sacremoses-0.0.53.tar.gz (880 kB)\n",
            "\u001b[K     |████████████████████████████████| 880 kB 24.7 MB/s \n",
            "\u001b[?25hCollecting tokenizers==0.8.1.rc2\n",
            "  Downloading tokenizers-0.8.1rc2-cp37-cp37m-manylinux1_x86_64.whl (3.0 MB)\n",
            "\u001b[K     |████████████████████████████████| 3.0 MB 42.1 MB/s \n",
            "\u001b[?25hRequirement already satisfied: filelock in /usr/local/lib/python3.7/dist-packages (from transformers==3.1.0) (3.8.0)\n",
            "Requirement already satisfied: packaging in /usr/local/lib/python3.7/dist-packages (from transformers==3.1.0) (21.3)\n",
            "Collecting sentencepiece!=0.1.92\n",
            "  Downloading sentencepiece-0.1.97-cp37-cp37m-manylinux_2_17_x86_64.manylinux2014_x86_64.whl (1.3 MB)\n",
            "\u001b[K     |████████████████████████████████| 1.3 MB 40.0 MB/s \n",
            "\u001b[?25hRequirement already satisfied: pyparsing!=3.0.5,>=2.0.2 in /usr/local/lib/python3.7/dist-packages (from packaging->transformers==3.1.0) (3.0.9)\n",
            "Requirement already satisfied: chardet<4,>=3.0.2 in /usr/local/lib/python3.7/dist-packages (from requests->transformers==3.1.0) (3.0.4)\n",
            "Requirement already satisfied: idna<3,>=2.5 in /usr/local/lib/python3.7/dist-packages (from requests->transformers==3.1.0) (2.10)\n",
            "Requirement already satisfied: certifi>=2017.4.17 in /usr/local/lib/python3.7/dist-packages (from requests->transformers==3.1.0) (2022.6.15)\n",
            "Requirement already satisfied: urllib3!=1.25.0,!=1.25.1,<1.26,>=1.21.1 in /usr/local/lib/python3.7/dist-packages (from requests->transformers==3.1.0) (1.24.3)\n",
            "Requirement already satisfied: six in /usr/local/lib/python3.7/dist-packages (from sacremoses->transformers==3.1.0) (1.15.0)\n",
            "Requirement already satisfied: click in /usr/local/lib/python3.7/dist-packages (from sacremoses->transformers==3.1.0) (7.1.2)\n",
            "Requirement already satisfied: joblib in /usr/local/lib/python3.7/dist-packages (from sacremoses->transformers==3.1.0) (1.1.0)\n",
            "Building wheels for collected packages: sacremoses\n",
            "  Building wheel for sacremoses (setup.py) ... \u001b[?25l\u001b[?25hdone\n",
            "  Created wheel for sacremoses: filename=sacremoses-0.0.53-py3-none-any.whl size=895260 sha256=4b48c8236100a4338a1df8420c1d022c5b29eb283c1cf1e9fff91a2f4b1c7ba0\n",
            "  Stored in directory: /root/.cache/pip/wheels/87/39/dd/a83eeef36d0bf98e7a4d1933a4ad2d660295a40613079bafc9\n",
            "Successfully built sacremoses\n",
            "Installing collected packages: tokenizers, sentencepiece, sacremoses, transformers\n",
            "Successfully installed sacremoses-0.0.53 sentencepiece-0.1.97 tokenizers-0.8.1rc2 transformers-3.1.0\n"
          ]
        }
      ]
    },
    {
      "cell_type": "code",
      "source": [
        "from transformers import pipeline"
      ],
      "metadata": {
        "id": "ldNCiLJThJTP"
      },
      "execution_count": 21,
      "outputs": []
    },
    {
      "cell_type": "code",
      "source": [
        "classifier = pipeline(\"zero-shot-classification\")"
      ],
      "metadata": {
        "colab": {
          "base_uri": "https://localhost:8080/",
          "height": 217,
          "referenced_widgets": [
            "1513efe179fb4e6ea0561bafb6643658",
            "25a2419352ff4a9f93255d0b556054c7",
            "83144e2155ad4e6b831c8cb72b30646c",
            "12195ed4a20640b18d4a019b9a68bf92",
            "6671930438b4413288ae36b6cc841fb3",
            "c255966c796e4cb08594a5bdadffd444",
            "e6326881047b48f0b1c42a5d593a72d1",
            "d8c435540acb467eb660c61104278625",
            "16ef60cd22d74204b83031d42e8d3fde",
            "78a46544e6d341119204eb968aecc9cb",
            "8bbe9c49f64a442f99c25ed6f1055369",
            "7d84711c8732427ea7f54d5e9af82436",
            "a75ec4e5cee14826bbdc33ca27730ed6",
            "2679c9c33af84845b6c37c6086eb2a72",
            "42682192ab3b4ab0bfa86d07341fd4bd",
            "95d87366595d434ab25e929d203fbfb0",
            "3c82c38def6a48589eb4c642522a4b16",
            "4e196e78a75e4fd48a2bdac6ab77b282",
            "d913b3c28a174d218bd676aa646986fe",
            "53fca0ee9dd945908af250ef9b2c9300",
            "4d5e4060e80e45f1b4332d8646a88a5b",
            "cf5b6e9c0c4246e19d46a45028c3d29e",
            "4fcefabefb5a441280505c0bc46825eb",
            "3f67de4e7b6d4591b62755ebf4d89843",
            "8f035c0f987049daab56bd2f14bcad1a",
            "8f4291d8b10f4ba3935951d7881c99f4",
            "9ef662b8e39941ec99086dcf07b28359",
            "a574d9392ced4882bd1d414801cb912a",
            "37aca35c00dd44d096a78e912171cb68",
            "3a300e106f48488e9c9bae55b564b61b",
            "43b8e1ecf0934dfda8b16790154c0f33",
            "21bde81980e741eeb9f1d321703355f6",
            "3f0814d9886a4ea0832c6b204af648e7",
            "a2ecd43e02014792aeeefcb67ff72704",
            "110ad5a6b09d4d57b3d87400df899f5e",
            "62094d4a190646278b2fdd6a00150a0a",
            "207efa4c9cb445a68bfd6468c1d17c39",
            "c4ddcf0635fb452686b4b88708471201",
            "1b3188138d094db4b56899e792081dbb",
            "f2a4da9b3f5f43a887ac540166fc69c8",
            "be1db6fdaf4d4c408519e1241d83a0b3",
            "6a44b80657c8415a9b82eed3217ad565",
            "d48766b8210644a1a3a012286664f9f3",
            "6bfbf22d75ca4cb9ba23c961a43ed6c8"
          ]
        },
        "id": "qh2kHJsljgRY",
        "outputId": "514133ea-8021-49be-a713-c6e5f4070087"
      },
      "execution_count": 22,
      "outputs": [
        {
          "output_type": "display_data",
          "data": {
            "text/plain": [
              "Downloading:   0%|          | 0.00/908 [00:00<?, ?B/s]"
            ],
            "application/vnd.jupyter.widget-view+json": {
              "version_major": 2,
              "version_minor": 0,
              "model_id": "1513efe179fb4e6ea0561bafb6643658"
            }
          },
          "metadata": {}
        },
        {
          "output_type": "display_data",
          "data": {
            "text/plain": [
              "Downloading:   0%|          | 0.00/899k [00:00<?, ?B/s]"
            ],
            "application/vnd.jupyter.widget-view+json": {
              "version_major": 2,
              "version_minor": 0,
              "model_id": "7d84711c8732427ea7f54d5e9af82436"
            }
          },
          "metadata": {}
        },
        {
          "output_type": "display_data",
          "data": {
            "text/plain": [
              "Downloading:   0%|          | 0.00/456k [00:00<?, ?B/s]"
            ],
            "application/vnd.jupyter.widget-view+json": {
              "version_major": 2,
              "version_minor": 0,
              "model_id": "4fcefabefb5a441280505c0bc46825eb"
            }
          },
          "metadata": {}
        },
        {
          "output_type": "display_data",
          "data": {
            "text/plain": [
              "Downloading:   0%|          | 0.00/1.63G [00:00<?, ?B/s]"
            ],
            "application/vnd.jupyter.widget-view+json": {
              "version_major": 2,
              "version_minor": 0,
              "model_id": "a2ecd43e02014792aeeefcb67ff72704"
            }
          },
          "metadata": {}
        },
        {
          "output_type": "stream",
          "name": "stderr",
          "text": [
            "Some weights of the model checkpoint at facebook/bart-large-mnli were not used when initializing BartForSequenceClassification: ['model.encoder.version', 'model.decoder.version']\n",
            "- This IS expected if you are initializing BartForSequenceClassification from the checkpoint of a model trained on another task or with another architecture (e.g. initializing a BertForSequenceClassification model from a BertForPretraining model).\n",
            "- This IS NOT expected if you are initializing BartForSequenceClassification from the checkpoint of a model that you expect to be exactly identical (initializing a BertForSequenceClassification model from a BertForSequenceClassification model).\n"
          ]
        }
      ]
    },
    {
      "cell_type": "markdown",
      "source": [
        "The underlying model is trained on the task of Natural Language Inference (NLI), which takes in two sequences and determines whether they contradict each other, entail each other, or neither.\n",
        "\n",
        "This can be adapted to the task of zero-shot classification by treating the sequence which we want to classify as one NLI sequence (called the premise) and turning a candidate label into the other (the hypothesis). If the model predicts that the constructed premise entails the hypothesis, then we can take that as a prediction that the label applies to the text. Check out this blog post for a more detailed explanation.\n",
        "\n",
        "By default, the pipeline turns labels into hypotheses with the template This example is {class_name}.. This works well in many settings, but you can also customize this for your specific setting. Let's add another review to our above sentiment classification example that's a bit more challenging:"
      ],
      "metadata": {
        "id": "XrLnIdLgrtsn"
      }
    },
    {
      "cell_type": "code",
      "source": [
        "df = df.iloc[:50]"
      ],
      "metadata": {
        "id": "QIqZQaIWwSU9"
      },
      "execution_count": 23,
      "outputs": []
    },
    {
      "cell_type": "code",
      "source": [
        "df.shape"
      ],
      "metadata": {
        "colab": {
          "base_uri": "https://localhost:8080/"
        },
        "id": "WDwyjeAWw1Oc",
        "outputId": "278f03f2-20c9-457f-fd6a-9a3d9fbc3ca7"
      },
      "execution_count": 24,
      "outputs": [
        {
          "output_type": "execute_result",
          "data": {
            "text/plain": [
              "(50, 10)"
            ]
          },
          "metadata": {},
          "execution_count": 24
        }
      ]
    },
    {
      "cell_type": "code",
      "source": [
        "all_predicted_class = []\n",
        "all_predicted_score = []\n",
        "\n",
        "candidate_labels = [\"Cartons\", \"Flexible\", \"Boxes\", \"Pallets\", \"Canned\", \"Bottled\"]\n",
        "candidate_results = [0, 0, 0, 0, 0, 0]\n",
        "\n",
        "for sent in df['Text'].values:\n",
        "    # To do multi-class classification, simply pass multi_class=True.\n",
        "    # In this case, the scores will be independent, but each will fall between 0 and 1.\n",
        "    res = classifier(sent, candidate_labels)\n",
        "\n",
        "    SCORES = res[\"scores\"]\n",
        "    CLASSES = res[\"labels\"]\n",
        "    BEST_INDEX = argmax(SCORES)\n",
        "    predicted_class = CLASSES[BEST_INDEX]\n",
        "    predicted_score = SCORES[BEST_INDEX]\n",
        "\n",
        "    all_predicted_class.append(predicted_class)\n",
        "    all_predicted_score.append(predicted_score)    \n",
        "\n",
        "    if predicted_class == 'Cartons' and predicted_score > 0.5:\n",
        "        candidate_results[0] = candidate_results[0] + 1\n",
        "    if predicted_class == 'Flexible' and predicted_score > 0.5:\n",
        "        candidate_results[1] = candidate_results[1] + 1\n",
        "    if predicted_class == 'Boxes' and predicted_score > 0.5:\n",
        "        candidate_results[2] = candidate_results[2] + 1\n",
        "    if predicted_class == 'Pallets' and predicted_score > 0.5:\n",
        "        candidate_results[3] = candidate_results[3] + 1\n",
        "    if predicted_class == 'Canned' and predicted_score > 0.5:\n",
        "        candidate_results[4] = candidate_results[4] + 1\n",
        "    if predicted_class == 'Bottled' and predicted_score > 0.5:\n",
        "        candidate_results[5] = candidate_results[5] + 1\n",
        "\n",
        "    if res['scores'][0] > 0.5:\n",
        "        print(sent)\n",
        "        print(res['labels'])\n",
        "        print(res['scores'])\n",
        "        print()\n",
        "\n",
        "\n",
        "df[\"Class\"] = all_predicted_class\n",
        "df[\"Score\"] = all_predicted_score\n",
        "print(candidate_results)"
      ],
      "metadata": {
        "colab": {
          "base_uri": "https://localhost:8080/"
        },
        "id": "JgTG8pYMrKnf",
        "outputId": "db5c40a9-7893-41ae-87e1-8082af9936d2"
      },
      "execution_count": 31,
      "outputs": [
        {
          "output_type": "stream",
          "name": "stdout",
          "text": [
            "I have bought several of the Vitality canned dog food products and have found them all to be of good quality. The product looks more like a stew than a processed meat and it smells better. My Labrador is finicky and she appreciates this product better than  most.\n",
            "['Canned', 'Flexible', 'Bottled', 'Pallets', 'Cartons', 'Boxes']\n",
            "[0.9257684946060181, 0.02870950475335121, 0.02657620795071125, 0.007379482965916395, 0.0066796657629311085, 0.004886569455265999]\n",
            "\n",
            "Product arrived labeled as Jumbo Salted Peanuts...the peanuts were actually small sized unsalted. Not sure if this was an error or if the vendor intended to represent the product as \"Jumbo\".\n",
            "['Flexible', 'Canned', 'Boxes', 'Bottled', 'Cartons', 'Pallets']\n",
            "[0.7101731300354004, 0.08353815227746964, 0.06370311230421066, 0.058236200362443924, 0.05315844714641571, 0.031190985813736916]\n",
            "\n",
            "This is a confection that has been around a few centuries.  It is a light, pillowy citrus gelatin with nuts - in this case Filberts. And it is cut into tiny squares and then liberally coated with powdered sugar.  And it is a tiny mouthful of heaven.  Not too chewy, and very flavorful.  I highly recommend this yummy treat.  If you are familiar with the story of C.S. Lewis' \"The Lion, The Witch, and The Wardrobe\" - this is the treat that seduces Edmund into selling out his Brother and Sisters to the Witch.\n",
            "['Flexible', 'Canned', 'Bottled', 'Pallets', 'Cartons', 'Boxes']\n",
            "[0.5309267640113831, 0.1717512160539627, 0.127344012260437, 0.06627769768238068, 0.053751036524772644, 0.04994932934641838]\n",
            "\n",
            "If you are looking for the secret ingredient in Robitussin I believe I have found it.  I got this in addition to the Root Beer Extract I ordered (which was good) and made some cherry soda.  The flavor is very medicinal.\n",
            "['Flexible', 'Bottled', 'Canned', 'Pallets', 'Cartons', 'Boxes']\n",
            "[0.6724663972854614, 0.10918907076120377, 0.07343604415655136, 0.05214037001132965, 0.05075057968497276, 0.04201748967170715]\n",
            "\n",
            "Great taffy at a great price.  There was a wide assortment of yummy taffy.  Delivery was very quick.  If your a taffy lover, this is a deal.\n",
            "['Flexible', 'Boxes', 'Pallets', 'Cartons', 'Canned', 'Bottled']\n",
            "[0.5902884006500244, 0.10631993412971497, 0.09520553052425385, 0.08628107607364655, 0.06890786439180374, 0.05299726501107216]\n",
            "\n",
            "This saltwater taffy had great flavors and was very soft and chewy.  Each candy was individually wrapped well.  None of the candies were stuck together, which did happen in the expensive version, Fralinger's.  Would highly recommend this candy!  I served it at a beach-themed party and everyone loved it!\n",
            "['Flexible', 'Canned', 'Bottled', 'Boxes', 'Cartons', 'Pallets']\n",
            "[0.7370344996452332, 0.07850121706724167, 0.06551884859800339, 0.044572655111551285, 0.043006304651498795, 0.03136637806892395]\n",
            "\n",
            "This taffy is so good.  It is very soft and chewy.  The flavors are amazing.  I would definitely recommend you buying it.  Very satisfying!!\n",
            "['Flexible', 'Pallets', 'Boxes', 'Bottled', 'Cartons', 'Canned']\n",
            "[0.5740722417831421, 0.09523309022188187, 0.09148456901311874, 0.0888914242386818, 0.07682442665100098, 0.07349422574043274]\n",
            "\n",
            "Right now I'm mostly just sprouting this so my cats can eat the grass. They love it. I rotate it around with Wheatgrass and Rye too\n",
            "['Flexible', 'Boxes', 'Canned', 'Cartons', 'Pallets', 'Bottled']\n",
            "[0.865079939365387, 0.03234889730811119, 0.03194892033934593, 0.028179652988910675, 0.0222442876547575, 0.020198289304971695]\n",
            "\n",
            "This is a very healthy dog food. Good for their digestion. Also good for small puppies. My dog eats her required amount at every feeding.\n",
            "['Flexible', 'Bottled', 'Boxes', 'Canned', 'Pallets', 'Cartons']\n",
            "[0.7470981478691101, 0.08195286989212036, 0.05796650052070618, 0.04591800272464752, 0.033986564725637436, 0.03307792544364929]\n",
            "\n",
            "One of my boys needed to lose some weight and the other didn't.  I put this food on the floor for the chubby guy, and the protein-rich, no by-product food up higher where only my skinny boy can jump.  The higher food sits going stale.  They both really go for this food.  And my chubby boy has been losing about an ounce a week.\n",
            "['Flexible', 'Bottled', 'Canned', 'Boxes', 'Pallets', 'Cartons']\n",
            "[0.8857066035270691, 0.03630257025361061, 0.029057933017611504, 0.019170919433236122, 0.01639382168650627, 0.013368144631385803]\n",
            "\n",
            "good flavor! these came securely packed... they were fresh and delicious! i love these Twizzlers!\n",
            "['Flexible', 'Boxes', 'Cartons', 'Pallets', 'Canned', 'Bottled']\n",
            "[0.5985528230667114, 0.17913557589054108, 0.08767750859260559, 0.05912031605839729, 0.0402185432612896, 0.035295188426971436]\n",
            "\n",
            "The Strawberry Twizzlers are my guilty pleasure - yummy. Six pounds will be around for a while with my son and I.\n",
            "['Flexible', 'Boxes', 'Bottled', 'Pallets', 'Cartons', 'Canned']\n",
            "[0.8947275280952454, 0.027033153921365738, 0.02155749686062336, 0.020414214581251144, 0.0191641878336668, 0.017103401944041252]\n",
            "\n",
            "My daughter loves twizzlers and this shipment of six pounds really hit the spot. It's exactly what you would expect...six packages of strawberry twizzlers.\n",
            "['Flexible', 'Boxes', 'Bottled', 'Canned', 'Cartons', 'Pallets']\n",
            "[0.5601981282234192, 0.11190658807754517, 0.107522152364254, 0.08913318067789078, 0.08870084583759308, 0.042539119720458984]\n",
            "\n",
            "I love eating them and they are good for watching TV and looking at movies! It is not too sweet. I like to transfer them to a zip lock baggie so they stay fresh so I can take my time eating them.\n",
            "['Flexible', 'Bottled', 'Canned', 'Boxes', 'Pallets', 'Cartons']\n",
            "[0.7778735756874084, 0.05529249459505081, 0.04796193540096283, 0.04350734502077103, 0.042699020355939865, 0.03266558051109314]\n",
            "\n",
            "I am very satisfied with my Twizzler purchase.  I shared these with others and we have all enjoyed them.  I will definitely be ordering more.\n",
            "['Flexible', 'Canned', 'Boxes', 'Bottled', 'Cartons', 'Pallets']\n",
            "[0.8780226111412048, 0.02954275533556938, 0.024613432586193085, 0.024119142442941666, 0.023834124207496643, 0.019867951050400734]\n",
            "\n",
            "Twizzlers, Strawberry my childhood favorite candy, made in Lancaster Pennsylvania by Y & S Candies, Inc. one of the oldest confectionery Firms in the United States, now a Subsidiary of the Hershey Company, the Company was established in 1845 as Young and Smylie, they also make Apple Licorice Twists, Green Color and Blue Raspberry Licorice Twists, I like them all<br /><br />I keep it in a dry cool place because is not recommended it to put it in the fridge. According to the Guinness Book of Records, the longest Licorice Twist ever made measured 1.200 Feet (370 M) and weighted 100 Pounds (45 Kg) and was made by Y & S Candies, Inc. This Record-Breaking Twist became a Guinness World Record on July 19, 1998. This Product is Kosher! Thank You\n",
            "['Flexible', 'Canned', 'Cartons', 'Boxes', 'Bottled', 'Pallets']\n",
            "[0.5594476461410522, 0.101042240858078, 0.09169105440378189, 0.08643399924039841, 0.08538148552179337, 0.07600350677967072]\n",
            "\n",
            "Candy was delivered very fast and was purchased at a reasonable price.  I was home bound and unable to get to a store so this was perfect for me.\n",
            "['Flexible', 'Canned', 'Bottled', 'Boxes', 'Cartons', 'Pallets']\n",
            "[0.8158820867538452, 0.05191455036401749, 0.05026748403906822, 0.03600991144776344, 0.029680751264095306, 0.016245270147919655]\n",
            "\n",
            "My husband is a Twizzlers addict.  We've bought these many times from Amazon because we're government employees living overseas and can't get them in the country we are assigned to.  They've always been fresh and tasty, packed well and arrive in a timely manner.\n",
            "['Flexible', 'Cartons', 'Canned', 'Boxes', 'Pallets', 'Bottled']\n",
            "[0.775188148021698, 0.05479292944073677, 0.046912431716918945, 0.0465552993118763, 0.04128071293234825, 0.03527039289474487]\n",
            "\n",
            "I bought these for my husband who is currently overseas. He loves these, and apparently his staff likes them also.<br />There are generous amounts of Twizzlers in each 16-ounce bag, and this was well worth the price. <a href=\"http://www.amazon.com/gp/product/B001GVISJM\">Twizzlers, Strawberry, 16-Ounce Bags (Pack of 6)</a>\n",
            "['Flexible', 'Boxes', 'Pallets', 'Bottled', 'Cartons', 'Canned']\n",
            "[0.6286646723747253, 0.1028231754899025, 0.0850587859749794, 0.07012932002544403, 0.062967948615551, 0.05035609006881714]\n",
            "\n",
            "I can remember buying this candy as a kid and the quality hasn't dropped in all these years. Still a superb product you won't be disappointed with.\n",
            "['Flexible', 'Canned', 'Bottled', 'Boxes', 'Cartons', 'Pallets']\n",
            "[0.5937723517417908, 0.13094261288642883, 0.10059145838022232, 0.06923902779817581, 0.05553719028830528, 0.04991729557514191]\n",
            "\n",
            "I love this candy.  After weight watchers I had to cut back but still have a craving for it.\n",
            "['Flexible', 'Bottled', 'Canned', 'Pallets', 'Boxes', 'Cartons']\n",
            "[0.6061196327209473, 0.08873643726110458, 0.08594484627246857, 0.07828759402036667, 0.07827778905630112, 0.06263376772403717]\n",
            "\n",
            "I have lived out of the US for over 7 yrs now, and I so miss my Twizzlers!!  When I go back to visit or someone visits me, I always stock up.  All I can say is YUM!<br />Sell these in Mexico and you will have a faithful buyer, more often than I'm able to buy them right now.\n",
            "['Flexible', 'Canned', 'Bottled', 'Boxes', 'Cartons', 'Pallets']\n",
            "[0.888712465763092, 0.027979403734207153, 0.024892903864383698, 0.023614363744854927, 0.018219739198684692, 0.016581062227487564]\n",
            "\n",
            "Product received is as advertised.<br /><br /><a href=\"http://www.amazon.com/gp/product/B001GVISJM\">Twizzlers, Strawberry, 16-Ounce Bags (Pack of 6)</a>\n",
            "['Flexible', 'Boxes', 'Bottled', 'Canned', 'Cartons', 'Pallets']\n",
            "[0.7241894006729126, 0.06949611008167267, 0.06578079611063004, 0.059809472411870956, 0.045995570719242096, 0.0347287580370903]\n",
            "\n",
            "I was so glad Amazon carried these batteries.  I have a hard time finding them elsewhere because they are such a unique size.  I need them for my garage door opener.<br />Great deal for the price.\n",
            "['Flexible', 'Bottled', 'Canned', 'Boxes', 'Cartons', 'Pallets']\n",
            "[0.5978776812553406, 0.12376872450113297, 0.09163153171539307, 0.07000855356454849, 0.06633476912975311, 0.05037882924079895]\n",
            "\n",
            "I got this for my Mum who is not diabetic but needs to watch her sugar intake, and my father who simply chooses to limit unnecessary sugar intake - she's the one with the sweet tooth - they both LOVED these toffees, you would never guess that they're sugar-free and it's so great that you can eat them pretty much guilt free!  i was so impressed that i've ordered some for myself (w dark chocolate) to take to the office so i'll eat them instead of snacking on sugary sweets.<br />These are just EXCELLENT!\n",
            "['Flexible', 'Bottled', 'Pallets', 'Canned', 'Boxes', 'Cartons']\n",
            "[0.5954005718231201, 0.11866611987352371, 0.08352646231651306, 0.06896625459194183, 0.06818845868110657, 0.06525210291147232]\n",
            "\n",
            "I have never been a huge coffee fan. However, my mother purchased this little machine and talked me into trying the Latte Macciato. No Coffee Shop has a better one and I like most of the other products, too (as a usually non-coffee drinker!).<br />The little Dolche Guesto Machine is super easy to use and prepares a really good Coffee/Latte/Cappuccino/etc in less than a minute (if water is heated up). I would recommend the Dolce Gusto to anyone. Too good for the price and I'am getting one myself! :)\n",
            "['Flexible', 'Canned', 'Pallets', 'Cartons', 'Boxes', 'Bottled']\n",
            "[0.6596294641494751, 0.07990991324186325, 0.07778474688529968, 0.07239935547113419, 0.06646808981895447, 0.04380844533443451]\n",
            "\n",
            "This offer is a great price and a great taste, thanks Amazon for selling this product.<br /><br />Staral\n",
            "['Flexible', 'Bottled', 'Boxes', 'Canned', 'Cartons', 'Pallets']\n",
            "[0.5327590703964233, 0.1749482899904251, 0.08582252264022827, 0.07363444566726685, 0.07132137566804886, 0.06151433661580086]\n",
            "\n",
            "McCann's Instant Oatmeal is great if you must have your oatmeal but can only scrape together two or three minutes to prepare it. There is no escaping the fact, however, that even the best instant oatmeal is nowhere near as good as even a store brand of oatmeal requiring stovetop preparation.  Still, the McCann's is as good as it gets for instant oatmeal. It's even better than the organic, all-natural brands I have tried.  All the varieties in the McCann's variety pack taste good.  It can be prepared in the microwave or by adding boiling water so it is convenient in the extreme when time is an issue.<br /><br />McCann's use of actual cane sugar instead of high fructose corn syrup helped me decide to buy this product.  Real sugar tastes better and is not as harmful as the other stuff. One thing I do not like, though, is McCann's use of thickeners.  Oats plus water plus heat should make a creamy, tasty oatmeal without the need for guar gum. But this is a convenience product.  Maybe the guar gum is why, after sitting in the bowl a while, the instant McCann's becomes too thick and gluey.\n",
            "['Flexible', 'Canned', 'Bottled', 'Cartons', 'Boxes', 'Pallets']\n",
            "[0.6579919457435608, 0.12472546845674515, 0.0592581145465374, 0.056996677070856094, 0.05310361459851265, 0.047924138605594635]\n",
            "\n",
            "This is a good instant oatmeal from the best oatmeal brand.  It uses cane sugar instead of high fructouse corn syrup, so not only does it have a better sweetness, but some doctors now say that this form of sugar is better for you.  Great on a cold morning when you don't have time to make McCann's Steel Cut Oats.  The apple cinnamon is the best but the maple and brown sugar or the regular are good too.  Plus they don't require doctoring to actually tell the three flavors apart.\n",
            "['Flexible', 'Canned', 'Pallets', 'Cartons', 'Bottled', 'Boxes']\n",
            "[0.6152307987213135, 0.11918997019529343, 0.08764182031154633, 0.0658053457736969, 0.06405272334814072, 0.048079315572977066]\n",
            "\n",
            "Instant oatmeal can become soggy the minute the water hits the bowl. McCann's Instant Oatmeal holds its texture, has excellent flavor, and is good for you all at the same time. McCann's regular oat meal is excellent, too, but may take a bit longer to prepare than most have time for in the morning. This is the best instant brand I've ever eaten, and a very close second to the non-instant variety.<br /><br />McCann's Instant Irish Oatmeal, Variety Pack of Regular, Apples & Cinnamon, and Maple & Brown Sugar, 10-Count Boxes (Pack of 6)\n",
            "['Boxes', 'Flexible', 'Cartons', 'Pallets', 'Bottled', 'Canned']\n",
            "[0.6504837274551392, 0.1895660012960434, 0.1132359579205513, 0.028507350012660027, 0.009333326481282711, 0.008873635903000832]\n",
            "\n",
            "McCann's Instant Irish Oatmeal, Variety Pack of Regular, Apples & Cinnamon, and Maple & Brown Sugar, 10-Count Boxes (Pack of 6)<br /><br />I'm a fan of the McCann's steel-cut oats, so I thought I'd give the instant variety a try. I found it to be a hardy meal, not too sweet, and great for folks like me (post-bariatric surgery) who need food that is palatable, easily digestible, with fiber but won't make you bloat.\n",
            "['Boxes', 'Flexible', 'Cartons', 'Pallets', 'Canned', 'Bottled']\n",
            "[0.8914006948471069, 0.06355037540197372, 0.022464867681264877, 0.011546770110726357, 0.005650035105645657, 0.005387189332395792]\n",
            "\n",
            "For those of us with celiac disease this product is a lifesaver and what could be better than getting it at almost half the price of the grocery or health food store!  I love McCann's instant oatmeal - all flavors!!!<br /><br />Thanks,<br />Abby\n",
            "['Flexible', 'Canned', 'Pallets', 'Bottled', 'Boxes', 'Cartons']\n",
            "[0.7423602342605591, 0.06151450052857399, 0.06048779562115669, 0.04708773270249367, 0.04438922926783562, 0.044160593301057816]\n",
            "\n",
            "What else do you need to know? Oatmeal, instant (make it with a half cup of low-fat milk and add raisins;nuke for 90 seconds). More expensive than Kroger store brand oatmeal and maybe a little tastier or better texture or something. It's still just oatmeal. Mmm, convenient!\n",
            "['Flexible', 'Pallets', 'Cartons', 'Boxes', 'Bottled', 'Canned']\n",
            "[0.8348497152328491, 0.0554349459707737, 0.032220762223005295, 0.03214944899082184, 0.02694990113377571, 0.01839524507522583]\n",
            "\n",
            "I ordered this for my wife as it was reccomended by our daughter.  She has this almost every morning and likes all flavors.  She's happy, I'm happy!!!<br /><a href=\"http://www.amazon.com/gp/product/B001EO5QW8\">McCANN'S Instant Irish Oatmeal, Variety Pack of Regular, Apples & Cinnamon, and Maple & Brown Sugar, 10-Count Boxes (Pack of 6)</a>\n",
            "['Boxes', 'Flexible', 'Canned', 'Cartons', 'Pallets', 'Bottled']\n",
            "[0.5764760971069336, 0.1678680181503296, 0.14074662327766418, 0.056163109838962555, 0.037546105682849884, 0.021200131624937057]\n",
            "\n",
            "The variety packs taste great!<br /><br />I have them every morning. At $0.30 cents per meal, I don't understand why everyone on earth isn't buying this stuff up.<br /><br />Maple and brown sugar is terrific, followed by apples and cinnamon, followed by regular. You don't get tired of the same ole thing, and they taste great.<br /><br />I just boil water from a small pot, empty the packet or 2 in a bowl, pour in boiling water, and watch it expand to 2x its size!<br /><br />Taste really good and takes minutes to prepare.<br /><br />Not sure why everyone on earth isn't this. Convenient, healthy, very quick, excellent quality, and extremely cheap...\n",
            "['Flexible', 'Boxes', 'Bottled', 'Pallets', 'Cartons', 'Canned']\n",
            "[0.7876132130622864, 0.05428486317396164, 0.044694364070892334, 0.04340408742427826, 0.03692856803536415, 0.033074893057346344]\n",
            "\n",
            "McCann's makes oatmeal for every oatmeal connoisseur, whether one likes it from the raw pellet state that cooks for half an hour, to the sloth addled instant, which can be done in the microwave for under three minutes. It's all good, that's for sure, and the beauty of the instant variety is that it is available in different flavors as well as regular.<br />  This variety pack allows different tastes to be explored, as well as giving you a chance to experience the difference between McCann's and other well-known oatmeals. What I personally like about McCann's is that it cooks up thicker and with more body than the top brand here in America. The Apples & Cinnamon, though, tends to be a little liquidy so you may want to experiment with the amount of water you add. In my 1300watt microwave the oatmeal cooks up in about one minute and twenty-seven seconds, so you should also watch that to get a handle on how much time and water to use.<br />  The only bad thing -- if you can consider it a bad thing -- about this offering is that you have to buy in lot so you'll end up with six ten-count boxes. This is good if you have a whole family of oatmeal-eaters, but if you're a single person alone -- well, love oatmeal.\n",
            "['Flexible', 'Boxes', 'Cartons', 'Pallets', 'Canned', 'Bottled']\n",
            "[0.5261978507041931, 0.35653603076934814, 0.03723205626010895, 0.028811758384108543, 0.026699207723140717, 0.024523096159100533]\n",
            "\n",
            "McCann's Oatmeal is a good quality choice.  Our favorite is the Apples and Cinnamon, but we find that none of these are overly sugary.  For a good hot breakfast in 2 minutes, this is excellent.\n",
            "['Flexible', 'Canned', 'Bottled', 'Pallets', 'Cartons', 'Boxes']\n",
            "[0.555361807346344, 0.27074500918388367, 0.056174103170633316, 0.043111447244882584, 0.04059870168566704, 0.03400891274213791]\n",
            "\n",
            "We really like the McCann's steel cut oats but find we don't cook it up too often.<br />This tastes much better to me than the grocery store brands and is just as convenient.<br />Anything that keeps me eating oatmeal regularly is a good thing.\n",
            "['Flexible', 'Canned', 'Bottled', 'Cartons', 'Pallets', 'Boxes']\n",
            "[0.8352133631706238, 0.0669318288564682, 0.044377706944942474, 0.02066633477807045, 0.017676593735814095, 0.015134168788790703]\n",
            "\n",
            "Good oatmeal.  I like the apple cinnamon the best.  Though I wouldn't follow the directions on the package since it always comes out too soupy for my taste.  That could just be me since I like my oatmeal really thick to add some milk on top of.\n",
            "['Flexible', 'Pallets', 'Bottled', 'Cartons', 'Canned', 'Boxes']\n",
            "[0.79083651304245, 0.058404285460710526, 0.04999937489628792, 0.038750313222408295, 0.037154681980609894, 0.02485485188663006]\n",
            "\n",
            "The flavors are good.  However, I do not see any differce between this and Oaker Oats brand - they are both mushy.\n",
            "['Flexible', 'Bottled', 'Canned', 'Pallets', 'Cartons', 'Boxes']\n",
            "[0.575273871421814, 0.10172516852617264, 0.09345942735671997, 0.0841701328754425, 0.08314558863639832, 0.06222577765583992]\n",
            "\n",
            "I really like the Maple and Brown Sugar flavor. The regular is fine with brown sugar added. The Apples and Cinnamon flavor is OK. This is a very quick, easy and satisfying breakfast and I'll order this brand again, but not the variety. I'll get all Maple and Brown Sugar.\n",
            "['Flexible', 'Bottled', 'Canned', 'Pallets', 'Boxes', 'Cartons']\n",
            "[0.7716607451438904, 0.08554119616746902, 0.05045059695839882, 0.0392749160528183, 0.02691909670829773, 0.026153383776545525]\n",
            "\n",
            "This is the same stuff you can buy at the big box stores.  There is nothing healthy about it.  It is just carbs and sugars.  Save your money and get something that at least has some taste.\n",
            "['Boxes', 'Flexible', 'Bottled', 'Canned', 'Pallets', 'Cartons']\n",
            "[0.6884598731994629, 0.17349296808242798, 0.05863032117486, 0.03183387964963913, 0.024657517671585083, 0.022925345227122307]\n",
            "\n",
            "[0, 37, 4, 0, 1, 0]\n"
          ]
        }
      ]
    },
    {
      "cell_type": "code",
      "source": [
        "data = {'labels': candidate_labels,\n",
        "        'values': candidate_results}\n",
        "\n",
        "df_chart = pd.DataFrame(data, columns=['labels','values'])\n",
        "\n",
        "df_chart.head(10)"
      ],
      "metadata": {
        "colab": {
          "base_uri": "https://localhost:8080/",
          "height": 238
        },
        "id": "JfEHJBr4vX16",
        "outputId": "c484e8ea-2af5-4ee2-b1ce-f49120ce81c2"
      },
      "execution_count": 32,
      "outputs": [
        {
          "output_type": "execute_result",
          "data": {
            "text/plain": [
              "     labels  values\n",
              "0   Cartons       0\n",
              "1  Flexible      37\n",
              "2     Boxes       4\n",
              "3   Pallets       0\n",
              "4    Canned       1\n",
              "5   Bottled       0"
            ],
            "text/html": [
              "\n",
              "  <div id=\"df-ec8894e4-40e9-4a8a-a3b5-e65bee6984e0\">\n",
              "    <div class=\"colab-df-container\">\n",
              "      <div>\n",
              "<style scoped>\n",
              "    .dataframe tbody tr th:only-of-type {\n",
              "        vertical-align: middle;\n",
              "    }\n",
              "\n",
              "    .dataframe tbody tr th {\n",
              "        vertical-align: top;\n",
              "    }\n",
              "\n",
              "    .dataframe thead th {\n",
              "        text-align: right;\n",
              "    }\n",
              "</style>\n",
              "<table border=\"1\" class=\"dataframe\">\n",
              "  <thead>\n",
              "    <tr style=\"text-align: right;\">\n",
              "      <th></th>\n",
              "      <th>labels</th>\n",
              "      <th>values</th>\n",
              "    </tr>\n",
              "  </thead>\n",
              "  <tbody>\n",
              "    <tr>\n",
              "      <th>0</th>\n",
              "      <td>Cartons</td>\n",
              "      <td>0</td>\n",
              "    </tr>\n",
              "    <tr>\n",
              "      <th>1</th>\n",
              "      <td>Flexible</td>\n",
              "      <td>37</td>\n",
              "    </tr>\n",
              "    <tr>\n",
              "      <th>2</th>\n",
              "      <td>Boxes</td>\n",
              "      <td>4</td>\n",
              "    </tr>\n",
              "    <tr>\n",
              "      <th>3</th>\n",
              "      <td>Pallets</td>\n",
              "      <td>0</td>\n",
              "    </tr>\n",
              "    <tr>\n",
              "      <th>4</th>\n",
              "      <td>Canned</td>\n",
              "      <td>1</td>\n",
              "    </tr>\n",
              "    <tr>\n",
              "      <th>5</th>\n",
              "      <td>Bottled</td>\n",
              "      <td>0</td>\n",
              "    </tr>\n",
              "  </tbody>\n",
              "</table>\n",
              "</div>\n",
              "      <button class=\"colab-df-convert\" onclick=\"convertToInteractive('df-ec8894e4-40e9-4a8a-a3b5-e65bee6984e0')\"\n",
              "              title=\"Convert this dataframe to an interactive table.\"\n",
              "              style=\"display:none;\">\n",
              "        \n",
              "  <svg xmlns=\"http://www.w3.org/2000/svg\" height=\"24px\"viewBox=\"0 0 24 24\"\n",
              "       width=\"24px\">\n",
              "    <path d=\"M0 0h24v24H0V0z\" fill=\"none\"/>\n",
              "    <path d=\"M18.56 5.44l.94 2.06.94-2.06 2.06-.94-2.06-.94-.94-2.06-.94 2.06-2.06.94zm-11 1L8.5 8.5l.94-2.06 2.06-.94-2.06-.94L8.5 2.5l-.94 2.06-2.06.94zm10 10l.94 2.06.94-2.06 2.06-.94-2.06-.94-.94-2.06-.94 2.06-2.06.94z\"/><path d=\"M17.41 7.96l-1.37-1.37c-.4-.4-.92-.59-1.43-.59-.52 0-1.04.2-1.43.59L10.3 9.45l-7.72 7.72c-.78.78-.78 2.05 0 2.83L4 21.41c.39.39.9.59 1.41.59.51 0 1.02-.2 1.41-.59l7.78-7.78 2.81-2.81c.8-.78.8-2.07 0-2.86zM5.41 20L4 18.59l7.72-7.72 1.47 1.35L5.41 20z\"/>\n",
              "  </svg>\n",
              "      </button>\n",
              "      \n",
              "  <style>\n",
              "    .colab-df-container {\n",
              "      display:flex;\n",
              "      flex-wrap:wrap;\n",
              "      gap: 12px;\n",
              "    }\n",
              "\n",
              "    .colab-df-convert {\n",
              "      background-color: #E8F0FE;\n",
              "      border: none;\n",
              "      border-radius: 50%;\n",
              "      cursor: pointer;\n",
              "      display: none;\n",
              "      fill: #1967D2;\n",
              "      height: 32px;\n",
              "      padding: 0 0 0 0;\n",
              "      width: 32px;\n",
              "    }\n",
              "\n",
              "    .colab-df-convert:hover {\n",
              "      background-color: #E2EBFA;\n",
              "      box-shadow: 0px 1px 2px rgba(60, 64, 67, 0.3), 0px 1px 3px 1px rgba(60, 64, 67, 0.15);\n",
              "      fill: #174EA6;\n",
              "    }\n",
              "\n",
              "    [theme=dark] .colab-df-convert {\n",
              "      background-color: #3B4455;\n",
              "      fill: #D2E3FC;\n",
              "    }\n",
              "\n",
              "    [theme=dark] .colab-df-convert:hover {\n",
              "      background-color: #434B5C;\n",
              "      box-shadow: 0px 1px 3px 1px rgba(0, 0, 0, 0.15);\n",
              "      filter: drop-shadow(0px 1px 2px rgba(0, 0, 0, 0.3));\n",
              "      fill: #FFFFFF;\n",
              "    }\n",
              "  </style>\n",
              "\n",
              "      <script>\n",
              "        const buttonEl =\n",
              "          document.querySelector('#df-ec8894e4-40e9-4a8a-a3b5-e65bee6984e0 button.colab-df-convert');\n",
              "        buttonEl.style.display =\n",
              "          google.colab.kernel.accessAllowed ? 'block' : 'none';\n",
              "\n",
              "        async function convertToInteractive(key) {\n",
              "          const element = document.querySelector('#df-ec8894e4-40e9-4a8a-a3b5-e65bee6984e0');\n",
              "          const dataTable =\n",
              "            await google.colab.kernel.invokeFunction('convertToInteractive',\n",
              "                                                     [key], {});\n",
              "          if (!dataTable) return;\n",
              "\n",
              "          const docLinkHtml = 'Like what you see? Visit the ' +\n",
              "            '<a target=\"_blank\" href=https://colab.research.google.com/notebooks/data_table.ipynb>data table notebook</a>'\n",
              "            + ' to learn more about interactive tables.';\n",
              "          element.innerHTML = '';\n",
              "          dataTable['output_type'] = 'display_data';\n",
              "          await google.colab.output.renderOutput(dataTable, element);\n",
              "          const docLink = document.createElement('div');\n",
              "          docLink.innerHTML = docLinkHtml;\n",
              "          element.appendChild(docLink);\n",
              "        }\n",
              "      </script>\n",
              "    </div>\n",
              "  </div>\n",
              "  "
            ]
          },
          "metadata": {},
          "execution_count": 32
        }
      ]
    },
    {
      "cell_type": "code",
      "source": [
        "sns.barplot(data = df_chart\n",
        "            ,x = 'labels'\n",
        "            ,y = 'values')"
      ],
      "metadata": {
        "colab": {
          "base_uri": "https://localhost:8080/",
          "height": 296
        },
        "id": "PkDUjBE2zJc7",
        "outputId": "67d7b9fb-e8df-48a7-f981-8a173b6e9684"
      },
      "execution_count": 33,
      "outputs": [
        {
          "output_type": "execute_result",
          "data": {
            "text/plain": [
              "<matplotlib.axes._subplots.AxesSubplot at 0x7f24f0cfd090>"
            ]
          },
          "metadata": {},
          "execution_count": 33
        },
        {
          "output_type": "display_data",
          "data": {
            "text/plain": [
              "<Figure size 432x288 with 1 Axes>"
            ],
            "image/png": "[encoded data removed]"
          },
          "metadata": {
            "needs_background": "light"
          }
        }
      ]
    },
    {
      "cell_type": "markdown",
      "source": [
        "## <font color=\"blue\">Solution column for Amazon Food Review Dataset using a zero shot model</font>"
      ],
      "metadata": {
        "id": "GQb4GRQRREyP"
      }
    },
    {
      "cell_type": "code",
      "source": [
        "df[['ProfileName','Text','Summary','Class','Score']]"
      ],
      "metadata": {
        "colab": {
          "base_uri": "https://localhost:8080/",
          "height": 1000
        },
        "id": "GHJE8WOZRQ7N",
        "outputId": "ee7ec31a-85a6-4aea-a8a8-d39bebfcf1fe"
      },
      "execution_count": 34,
      "outputs": [
        {
          "output_type": "execute_result",
          "data": {
            "text/plain": [
              "                        ProfileName  \\\n",
              "0                        delmartian   \n",
              "1                            dll pa   \n",
              "2   Natalia Corres \"Natalia Corres\"   \n",
              "3                              Karl   \n",
              "4     Michael D. Bigham \"M. Wassir\"   \n",
              "5                    Twoapennything   \n",
              "6                 David C. Sullivan   \n",
              "7                Pamela G. Williams   \n",
              "8                          R. James   \n",
              "9                     Carol A. Reed   \n",
              "10                     Canadian Fan   \n",
              "11           A Poeng \"SparkyGoHome\"   \n",
              "12                               LT   \n",
              "13                  willie \"roadie\"   \n",
              "14              Lynrie \"Oh HELL no\"   \n",
              "15                     Brian A. Lee   \n",
              "16                   Erica Neathery   \n",
              "17                            Becca   \n",
              "18                          Wolfee1   \n",
              "19                             Greg   \n",
              "20                         mom2emma   \n",
              "21                   Tammy Anderson   \n",
              "22                    Charles Brown   \n",
              "23                           Mare's   \n",
              "24      S. Cabanaugh \"jilly pepper\"   \n",
              "25     Deborah S. Linzer \"Cat Lady\"   \n",
              "26                           lady21   \n",
              "27                     Heather Dube   \n",
              "28                           DaisyH   \n",
              "29                     Canadian Fan   \n",
              "30                          Sherril   \n",
              "31          Molly V. Smith \"staral\"   \n",
              "32                        S. Potter   \n",
              "33         Megan \"Bad at Nicknames\"   \n",
              "34                       CorbyJames   \n",
              "35                       T. J. Ryan   \n",
              "36         Abby Chase \"gluten free\"   \n",
              "37             Zardoz \"focuspuller\"   \n",
              "38                      JERRY REITH   \n",
              "39                        kYpondman   \n",
              "40                          Garrett   \n",
              "41         Dick Baldwin \"christobe\"   \n",
              "42                   Roger Pugliese   \n",
              "43                      Mother of 9   \n",
              "44                       D. Leschke   \n",
              "45                      K. A. Freel   \n",
              "46                    grumpyrainbow   \n",
              "47                kbogo \"shoelover\"   \n",
              "48                     knitty pants   \n",
              "49                             JMay   \n",
              "\n",
              "                                                 Text  \\\n",
              "0   I have bought several of the Vitality canned d...   \n",
              "1   Product arrived labeled as Jumbo Salted Peanut...   \n",
              "2   This is a confection that has been around a fe...   \n",
              "3   If you are looking for the secret ingredient i...   \n",
              "4   Great taffy at a great price.  There was a wid...   \n",
              "5   I got a wild hair for taffy and ordered this f...   \n",
              "6   This saltwater taffy had great flavors and was...   \n",
              "7   This taffy is so good.  It is very soft and ch...   \n",
              "8   Right now I'm mostly just sprouting this so my...   \n",
              "9   This is a very healthy dog food. Good for thei...   \n",
              "10  I don't know if it's the cactus or the tequila...   \n",
              "11  One of my boys needed to lose some weight and ...   \n",
              "12  My cats have been happily eating Felidae Plati...   \n",
              "13  good flavor! these came securely packed... the...   \n",
              "14  The Strawberry Twizzlers are my guilty pleasur...   \n",
              "15  My daughter loves twizzlers and this shipment ...   \n",
              "16  I love eating them and they are good for watch...   \n",
              "17  I am very satisfied with my Twizzler purchase....   \n",
              "18  Twizzlers, Strawberry my childhood favorite ca...   \n",
              "19  Candy was delivered very fast and was purchase...   \n",
              "20  My husband is a Twizzlers addict.  We've bough...   \n",
              "21  I bought these for my husband who is currently...   \n",
              "22  I can remember buying this candy as a kid and ...   \n",
              "23  I love this candy.  After weight watchers I ha...   \n",
              "24  I have lived out of the US for over 7 yrs now,...   \n",
              "25  Product received is as advertised.<br /><br />...   \n",
              "26  The candy is just red , No flavor . Just  plan...   \n",
              "27  I was so glad Amazon carried these batteries. ...   \n",
              "28  I got this for my Mum who is not diabetic but ...   \n",
              "29  I don't know if it's the cactus or the tequila...   \n",
              "30  I have never been a huge coffee fan. However, ...   \n",
              "31  This offer is a great price and a great taste,...   \n",
              "32  McCann's Instant Oatmeal is great if you must ...   \n",
              "33  This is a good instant oatmeal from the best o...   \n",
              "34  Instant oatmeal can become soggy the minute th...   \n",
              "35  McCann's Instant Irish Oatmeal, Variety Pack o...   \n",
              "36  For those of us with celiac disease this produ...   \n",
              "37  What else do you need to know? Oatmeal, instan...   \n",
              "38  I WAS VISITING MY FRIEND NATE THE OTHER MORNIN...   \n",
              "39  I ordered this for my wife as it was reccomend...   \n",
              "40  The variety packs taste great!<br /><br />I ha...   \n",
              "41  McCann's makes oatmeal for every oatmeal conno...   \n",
              "42  I have McCann's Oatmeal every morning and by o...   \n",
              "43  McCann's Oatmeal is a good quality choice.  Ou...   \n",
              "44  We really like the McCann's steel cut oats but...   \n",
              "45  This seems a little more wholesome than some o...   \n",
              "46  Good oatmeal.  I like the apple cinnamon the b...   \n",
              "47  The flavors are good.  However, I do not see a...   \n",
              "48  I really like the Maple and Brown Sugar flavor...   \n",
              "49  This is the same stuff you can buy at the big ...   \n",
              "\n",
              "                                              Summary     Class     Score  \n",
              "0                               Good Quality Dog Food    Canned  0.925768  \n",
              "1                                   Not as Advertised  Flexible  0.710173  \n",
              "2                               \"Delight\" says it all  Flexible  0.530927  \n",
              "3                                      Cough Medicine  Flexible  0.672466  \n",
              "4                                         Great taffy  Flexible  0.590288  \n",
              "5                                          Nice Taffy  Flexible  0.392241  \n",
              "6       Great!  Just as good as the expensive brands!  Flexible  0.737034  \n",
              "7                              Wonderful, tasty taffy  Flexible  0.574072  \n",
              "8                                          Yay Barley  Flexible  0.865080  \n",
              "9                                    Healthy Dog Food  Flexible  0.747098  \n",
              "10                    The Best Hot Sauce in the World  Flexible  0.405010  \n",
              "11  My cats LOVE this \"diet\" food better than thei...  Flexible  0.885707  \n",
              "12               My Cats Are Not Fans of the New Food  Flexible  0.476562  \n",
              "13                                  fresh and greasy!  Flexible  0.598553  \n",
              "14                       Strawberry Twizzlers - Yummy  Flexible  0.894728  \n",
              "15           Lots of twizzlers, just what you expect.  Flexible  0.560198  \n",
              "16                                         poor taste  Flexible  0.777874  \n",
              "17                                           Love it!  Flexible  0.878023  \n",
              "18                                 GREAT SWEET CANDY!  Flexible  0.559448  \n",
              "19                            Home delivered twizlers  Flexible  0.815882  \n",
              "20                                       Always fresh  Flexible  0.775188  \n",
              "21                                          TWIZZLERS  Flexible  0.628665  \n",
              "22                                 Delicious product!  Flexible  0.593772  \n",
              "23                                          Twizzlers  Flexible  0.606120  \n",
              "24                      Please sell these in Mexico!!  Flexible  0.888712  \n",
              "25                             Twizzlers - Strawberry  Flexible  0.724189  \n",
              "26                                    Nasty No flavor  Flexible  0.428358  \n",
              "27                        Great Bargain for the Price  Flexible  0.597878  \n",
              "28                                             YUMMY!  Flexible  0.595401  \n",
              "29                    The Best Hot Sauce in the World  Flexible  0.405010  \n",
              "30                                     Great machine!  Flexible  0.659629  \n",
              "31                                THIS IS MY TASTE...  Flexible  0.532759  \n",
              "32                       Best of the Instant Oatmeals  Flexible  0.657992  \n",
              "33                                       Good Instant  Flexible  0.615231  \n",
              "34          Great Irish oatmeal for those in a hurry!     Boxes  0.650484  \n",
              "35                                         satisfying     Boxes  0.891401  \n",
              "36                        Love Gluten Free Oatmeal!!!  Flexible  0.742360  \n",
              "37                                       it's oatmeal  Flexible  0.834850  \n",
              "38                      GOOD WAY TO START THE DAY....    Canned  0.493685  \n",
              "39                          Wife's favorite Breakfast     Boxes  0.576476  \n",
              "40  Why wouldn't you buy oatmeal from Mcanns? Tast...  Flexible  0.787613  \n",
              "41                         Oatmeal For Oatmeal Lovers  Flexible  0.526198  \n",
              "42                                         Food-Great  Flexible  0.488660  \n",
              "43                                 Good Hot Breakfast  Flexible  0.555362  \n",
              "44                        Great taste and convenience  Flexible  0.835213  \n",
              "45                                     Hearty Oatmeal  Flexible  0.388919  \n",
              "46                                               good  Flexible  0.790837  \n",
              "47                                              Mushy  Flexible  0.575274  \n",
              "48  Very good but next time I won't order the Vari...  Flexible  0.771661  \n",
              "49                                         Same stuff     Boxes  0.688460  "
            ],
            "text/html": [
              "\n",
              "  <div id=\"df-e4874a95-2c98-4e62-8d5e-212a204dfee2\">\n",
              "    <div class=\"colab-df-container\">\n",
              "      <div>\n",
              "<style scoped>\n",
              "    .dataframe tbody tr th:only-of-type {\n",
              "        vertical-align: middle;\n",
              "    }\n",
              "\n",
              "    .dataframe tbody tr th {\n",
              "        vertical-align: top;\n",
              "    }\n",
              "\n",
              "    .dataframe thead th {\n",
              "        text-align: right;\n",
              "    }\n",
              "</style>\n",
              "<table border=\"1\" class=\"dataframe\">\n",
              "  <thead>\n",
              "    <tr style=\"text-align: right;\">\n",
              "      <th></th>\n",
              "      <th>ProfileName</th>\n",
              "      <th>Text</th>\n",
              "      <th>Summary</th>\n",
              "      <th>Class</th>\n",
              "      <th>Score</th>\n",
              "    </tr>\n",
              "  </thead>\n",
              "  <tbody>\n",
              "    <tr>\n",
              "      <th>0</th>\n",
              "      <td>delmartian</td>\n",
              "      <td>I have bought several of the Vitality canned d...</td>\n",
              "      <td>Good Quality Dog Food</td>\n",
              "      <td>Canned</td>\n",
              "      <td>0.925768</td>\n",
              "    </tr>\n",
              "    <tr>\n",
              "      <th>1</th>\n",
              "      <td>dll pa</td>\n",
              "      <td>Product arrived labeled as Jumbo Salted Peanut...</td>\n",
              "      <td>Not as Advertised</td>\n",
              "      <td>Flexible</td>\n",
              "      <td>0.710173</td>\n",
              "    </tr>\n",
              "    <tr>\n",
              "      <th>2</th>\n",
              "      <td>Natalia Corres \"Natalia Corres\"</td>\n",
              "      <td>This is a confection that has been around a fe...</td>\n",
              "      <td>\"Delight\" says it all</td>\n",
              "      <td>Flexible</td>\n",
              "      <td>0.530927</td>\n",
              "    </tr>\n",
              "    <tr>\n",
              "      <th>3</th>\n",
              "      <td>Karl</td>\n",
              "      <td>If you are looking for the secret ingredient i...</td>\n",
              "      <td>Cough Medicine</td>\n",
              "      <td>Flexible</td>\n",
              "      <td>0.672466</td>\n",
              "    </tr>\n",
              "    <tr>\n",
              "      <th>4</th>\n",
              "      <td>Michael D. Bigham \"M. Wassir\"</td>\n",
              "      <td>Great taffy at a great price.  There was a wid...</td>\n",
              "      <td>Great taffy</td>\n",
              "      <td>Flexible</td>\n",
              "      <td>0.590288</td>\n",
              "    </tr>\n",
              "    <tr>\n",
              "      <th>5</th>\n",
              "      <td>Twoapennything</td>\n",
              "      <td>I got a wild hair for taffy and ordered this f...</td>\n",
              "      <td>Nice Taffy</td>\n",
              "      <td>Flexible</td>\n",
              "      <td>0.392241</td>\n",
              "    </tr>\n",
              "    <tr>\n",
              "      <th>6</th>\n",
              "      <td>David C. Sullivan</td>\n",
              "      <td>This saltwater taffy had great flavors and was...</td>\n",
              "      <td>Great!  Just as good as the expensive brands!</td>\n",
              "      <td>Flexible</td>\n",
              "      <td>0.737034</td>\n",
              "    </tr>\n",
              "    <tr>\n",
              "      <th>7</th>\n",
              "      <td>Pamela G. Williams</td>\n",
              "      <td>This taffy is so good.  It is very soft and ch...</td>\n",
              "      <td>Wonderful, tasty taffy</td>\n",
              "      <td>Flexible</td>\n",
              "      <td>0.574072</td>\n",
              "    </tr>\n",
              "    <tr>\n",
              "      <th>8</th>\n",
              "      <td>R. James</td>\n",
              "      <td>Right now I'm mostly just sprouting this so my...</td>\n",
              "      <td>Yay Barley</td>\n",
              "      <td>Flexible</td>\n",
              "      <td>0.865080</td>\n",
              "    </tr>\n",
              "    <tr>\n",
              "      <th>9</th>\n",
              "      <td>Carol A. Reed</td>\n",
              "      <td>This is a very healthy dog food. Good for thei...</td>\n",
              "      <td>Healthy Dog Food</td>\n",
              "      <td>Flexible</td>\n",
              "      <td>0.747098</td>\n",
              "    </tr>\n",
              "    <tr>\n",
              "      <th>10</th>\n",
              "      <td>Canadian Fan</td>\n",
              "      <td>I don't know if it's the cactus or the tequila...</td>\n",
              "      <td>The Best Hot Sauce in the World</td>\n",
              "      <td>Flexible</td>\n",
              "      <td>0.405010</td>\n",
              "    </tr>\n",
              "    <tr>\n",
              "      <th>11</th>\n",
              "      <td>A Poeng \"SparkyGoHome\"</td>\n",
              "      <td>One of my boys needed to lose some weight and ...</td>\n",
              "      <td>My cats LOVE this \"diet\" food better than thei...</td>\n",
              "      <td>Flexible</td>\n",
              "      <td>0.885707</td>\n",
              "    </tr>\n",
              "    <tr>\n",
              "      <th>12</th>\n",
              "      <td>LT</td>\n",
              "      <td>My cats have been happily eating Felidae Plati...</td>\n",
              "      <td>My Cats Are Not Fans of the New Food</td>\n",
              "      <td>Flexible</td>\n",
              "      <td>0.476562</td>\n",
              "    </tr>\n",
              "    <tr>\n",
              "      <th>13</th>\n",
              "      <td>willie \"roadie\"</td>\n",
              "      <td>good flavor! these came securely packed... the...</td>\n",
              "      <td>fresh and greasy!</td>\n",
              "      <td>Flexible</td>\n",
              "      <td>0.598553</td>\n",
              "    </tr>\n",
              "    <tr>\n",
              "      <th>14</th>\n",
              "      <td>Lynrie \"Oh HELL no\"</td>\n",
              "      <td>The Strawberry Twizzlers are my guilty pleasur...</td>\n",
              "      <td>Strawberry Twizzlers - Yummy</td>\n",
              "      <td>Flexible</td>\n",
              "      <td>0.894728</td>\n",
              "    </tr>\n",
              "    <tr>\n",
              "      <th>15</th>\n",
              "      <td>Brian A. Lee</td>\n",
              "      <td>My daughter loves twizzlers and this shipment ...</td>\n",
              "      <td>Lots of twizzlers, just what you expect.</td>\n",
              "      <td>Flexible</td>\n",
              "      <td>0.560198</td>\n",
              "    </tr>\n",
              "    <tr>\n",
              "      <th>16</th>\n",
              "      <td>Erica Neathery</td>\n",
              "      <td>I love eating them and they are good for watch...</td>\n",
              "      <td>poor taste</td>\n",
              "      <td>Flexible</td>\n",
              "      <td>0.777874</td>\n",
              "    </tr>\n",
              "    <tr>\n",
              "      <th>17</th>\n",
              "      <td>Becca</td>\n",
              "      <td>I am very satisfied with my Twizzler purchase....</td>\n",
              "      <td>Love it!</td>\n",
              "      <td>Flexible</td>\n",
              "      <td>0.878023</td>\n",
              "    </tr>\n",
              "    <tr>\n",
              "      <th>18</th>\n",
              "      <td>Wolfee1</td>\n",
              "      <td>Twizzlers, Strawberry my childhood favorite ca...</td>\n",
              "      <td>GREAT SWEET CANDY!</td>\n",
              "      <td>Flexible</td>\n",
              "      <td>0.559448</td>\n",
              "    </tr>\n",
              "    <tr>\n",
              "      <th>19</th>\n",
              "      <td>Greg</td>\n",
              "      <td>Candy was delivered very fast and was purchase...</td>\n",
              "      <td>Home delivered twizlers</td>\n",
              "      <td>Flexible</td>\n",
              "      <td>0.815882</td>\n",
              "    </tr>\n",
              "    <tr>\n",
              "      <th>20</th>\n",
              "      <td>mom2emma</td>\n",
              "      <td>My husband is a Twizzlers addict.  We've bough...</td>\n",
              "      <td>Always fresh</td>\n",
              "      <td>Flexible</td>\n",
              "      <td>0.775188</td>\n",
              "    </tr>\n",
              "    <tr>\n",
              "      <th>21</th>\n",
              "      <td>Tammy Anderson</td>\n",
              "      <td>I bought these for my husband who is currently...</td>\n",
              "      <td>TWIZZLERS</td>\n",
              "      <td>Flexible</td>\n",
              "      <td>0.628665</td>\n",
              "    </tr>\n",
              "    <tr>\n",
              "      <th>22</th>\n",
              "      <td>Charles Brown</td>\n",
              "      <td>I can remember buying this candy as a kid and ...</td>\n",
              "      <td>Delicious product!</td>\n",
              "      <td>Flexible</td>\n",
              "      <td>0.593772</td>\n",
              "    </tr>\n",
              "    <tr>\n",
              "      <th>23</th>\n",
              "      <td>Mare's</td>\n",
              "      <td>I love this candy.  After weight watchers I ha...</td>\n",
              "      <td>Twizzlers</td>\n",
              "      <td>Flexible</td>\n",
              "      <td>0.606120</td>\n",
              "    </tr>\n",
              "    <tr>\n",
              "      <th>24</th>\n",
              "      <td>S. Cabanaugh \"jilly pepper\"</td>\n",
              "      <td>I have lived out of the US for over 7 yrs now,...</td>\n",
              "      <td>Please sell these in Mexico!!</td>\n",
              "      <td>Flexible</td>\n",
              "      <td>0.888712</td>\n",
              "    </tr>\n",
              "    <tr>\n",
              "      <th>25</th>\n",
              "      <td>Deborah S. Linzer \"Cat Lady\"</td>\n",
              "      <td>Product received is as advertised.&lt;br /&gt;&lt;br /&gt;...</td>\n",
              "      <td>Twizzlers - Strawberry</td>\n",
              "      <td>Flexible</td>\n",
              "      <td>0.724189</td>\n",
              "    </tr>\n",
              "    <tr>\n",
              "      <th>26</th>\n",
              "      <td>lady21</td>\n",
              "      <td>The candy is just red , No flavor . Just  plan...</td>\n",
              "      <td>Nasty No flavor</td>\n",
              "      <td>Flexible</td>\n",
              "      <td>0.428358</td>\n",
              "    </tr>\n",
              "    <tr>\n",
              "      <th>27</th>\n",
              "      <td>Heather Dube</td>\n",
              "      <td>I was so glad Amazon carried these batteries. ...</td>\n",
              "      <td>Great Bargain for the Price</td>\n",
              "      <td>Flexible</td>\n",
              "      <td>0.597878</td>\n",
              "    </tr>\n",
              "    <tr>\n",
              "      <th>28</th>\n",
              "      <td>DaisyH</td>\n",
              "      <td>I got this for my Mum who is not diabetic but ...</td>\n",
              "      <td>YUMMY!</td>\n",
              "      <td>Flexible</td>\n",
              "      <td>0.595401</td>\n",
              "    </tr>\n",
              "    <tr>\n",
              "      <th>29</th>\n",
              "      <td>Canadian Fan</td>\n",
              "      <td>I don't know if it's the cactus or the tequila...</td>\n",
              "      <td>The Best Hot Sauce in the World</td>\n",
              "      <td>Flexible</td>\n",
              "      <td>0.405010</td>\n",
              "    </tr>\n",
              "    <tr>\n",
              "      <th>30</th>\n",
              "      <td>Sherril</td>\n",
              "      <td>I have never been a huge coffee fan. However, ...</td>\n",
              "      <td>Great machine!</td>\n",
              "      <td>Flexible</td>\n",
              "      <td>0.659629</td>\n",
              "    </tr>\n",
              "    <tr>\n",
              "      <th>31</th>\n",
              "      <td>Molly V. Smith \"staral\"</td>\n",
              "      <td>This offer is a great price and a great taste,...</td>\n",
              "      <td>THIS IS MY TASTE...</td>\n",
              "      <td>Flexible</td>\n",
              "      <td>0.532759</td>\n",
              "    </tr>\n",
              "    <tr>\n",
              "      <th>32</th>\n",
              "      <td>S. Potter</td>\n",
              "      <td>McCann's Instant Oatmeal is great if you must ...</td>\n",
              "      <td>Best of the Instant Oatmeals</td>\n",
              "      <td>Flexible</td>\n",
              "      <td>0.657992</td>\n",
              "    </tr>\n",
              "    <tr>\n",
              "      <th>33</th>\n",
              "      <td>Megan \"Bad at Nicknames\"</td>\n",
              "      <td>This is a good instant oatmeal from the best o...</td>\n",
              "      <td>Good Instant</td>\n",
              "      <td>Flexible</td>\n",
              "      <td>0.615231</td>\n",
              "    </tr>\n",
              "    <tr>\n",
              "      <th>34</th>\n",
              "      <td>CorbyJames</td>\n",
              "      <td>Instant oatmeal can become soggy the minute th...</td>\n",
              "      <td>Great Irish oatmeal for those in a hurry!</td>\n",
              "      <td>Boxes</td>\n",
              "      <td>0.650484</td>\n",
              "    </tr>\n",
              "    <tr>\n",
              "      <th>35</th>\n",
              "      <td>T. J. Ryan</td>\n",
              "      <td>McCann's Instant Irish Oatmeal, Variety Pack o...</td>\n",
              "      <td>satisfying</td>\n",
              "      <td>Boxes</td>\n",
              "      <td>0.891401</td>\n",
              "    </tr>\n",
              "    <tr>\n",
              "      <th>36</th>\n",
              "      <td>Abby Chase \"gluten free\"</td>\n",
              "      <td>For those of us with celiac disease this produ...</td>\n",
              "      <td>Love Gluten Free Oatmeal!!!</td>\n",
              "      <td>Flexible</td>\n",
              "      <td>0.742360</td>\n",
              "    </tr>\n",
              "    <tr>\n",
              "      <th>37</th>\n",
              "      <td>Zardoz \"focuspuller\"</td>\n",
              "      <td>What else do you need to know? Oatmeal, instan...</td>\n",
              "      <td>it's oatmeal</td>\n",
              "      <td>Flexible</td>\n",
              "      <td>0.834850</td>\n",
              "    </tr>\n",
              "    <tr>\n",
              "      <th>38</th>\n",
              "      <td>JERRY REITH</td>\n",
              "      <td>I WAS VISITING MY FRIEND NATE THE OTHER MORNIN...</td>\n",
              "      <td>GOOD WAY TO START THE DAY....</td>\n",
              "      <td>Canned</td>\n",
              "      <td>0.493685</td>\n",
              "    </tr>\n",
              "    <tr>\n",
              "      <th>39</th>\n",
              "      <td>kYpondman</td>\n",
              "      <td>I ordered this for my wife as it was reccomend...</td>\n",
              "      <td>Wife's favorite Breakfast</td>\n",
              "      <td>Boxes</td>\n",
              "      <td>0.576476</td>\n",
              "    </tr>\n",
              "    <tr>\n",
              "      <th>40</th>\n",
              "      <td>Garrett</td>\n",
              "      <td>The variety packs taste great!&lt;br /&gt;&lt;br /&gt;I ha...</td>\n",
              "      <td>Why wouldn't you buy oatmeal from Mcanns? Tast...</td>\n",
              "      <td>Flexible</td>\n",
              "      <td>0.787613</td>\n",
              "    </tr>\n",
              "    <tr>\n",
              "      <th>41</th>\n",
              "      <td>Dick Baldwin \"christobe\"</td>\n",
              "      <td>McCann's makes oatmeal for every oatmeal conno...</td>\n",
              "      <td>Oatmeal For Oatmeal Lovers</td>\n",
              "      <td>Flexible</td>\n",
              "      <td>0.526198</td>\n",
              "    </tr>\n",
              "    <tr>\n",
              "      <th>42</th>\n",
              "      <td>Roger Pugliese</td>\n",
              "      <td>I have McCann's Oatmeal every morning and by o...</td>\n",
              "      <td>Food-Great</td>\n",
              "      <td>Flexible</td>\n",
              "      <td>0.488660</td>\n",
              "    </tr>\n",
              "    <tr>\n",
              "      <th>43</th>\n",
              "      <td>Mother of 9</td>\n",
              "      <td>McCann's Oatmeal is a good quality choice.  Ou...</td>\n",
              "      <td>Good Hot Breakfast</td>\n",
              "      <td>Flexible</td>\n",
              "      <td>0.555362</td>\n",
              "    </tr>\n",
              "    <tr>\n",
              "      <th>44</th>\n",
              "      <td>D. Leschke</td>\n",
              "      <td>We really like the McCann's steel cut oats but...</td>\n",
              "      <td>Great taste and convenience</td>\n",
              "      <td>Flexible</td>\n",
              "      <td>0.835213</td>\n",
              "    </tr>\n",
              "    <tr>\n",
              "      <th>45</th>\n",
              "      <td>K. A. Freel</td>\n",
              "      <td>This seems a little more wholesome than some o...</td>\n",
              "      <td>Hearty Oatmeal</td>\n",
              "      <td>Flexible</td>\n",
              "      <td>0.388919</td>\n",
              "    </tr>\n",
              "    <tr>\n",
              "      <th>46</th>\n",
              "      <td>grumpyrainbow</td>\n",
              "      <td>Good oatmeal.  I like the apple cinnamon the b...</td>\n",
              "      <td>good</td>\n",
              "      <td>Flexible</td>\n",
              "      <td>0.790837</td>\n",
              "    </tr>\n",
              "    <tr>\n",
              "      <th>47</th>\n",
              "      <td>kbogo \"shoelover\"</td>\n",
              "      <td>The flavors are good.  However, I do not see a...</td>\n",
              "      <td>Mushy</td>\n",
              "      <td>Flexible</td>\n",
              "      <td>0.575274</td>\n",
              "    </tr>\n",
              "    <tr>\n",
              "      <th>48</th>\n",
              "      <td>knitty pants</td>\n",
              "      <td>I really like the Maple and Brown Sugar flavor...</td>\n",
              "      <td>Very good but next time I won't order the Vari...</td>\n",
              "      <td>Flexible</td>\n",
              "      <td>0.771661</td>\n",
              "    </tr>\n",
              "    <tr>\n",
              "      <th>49</th>\n",
              "      <td>JMay</td>\n",
              "      <td>This is the same stuff you can buy at the big ...</td>\n",
              "      <td>Same stuff</td>\n",
              "      <td>Boxes</td>\n",
              "      <td>0.688460</td>\n",
              "    </tr>\n",
              "  </tbody>\n",
              "</table>\n",
              "</div>\n",
              "      <button class=\"colab-df-convert\" onclick=\"convertToInteractive('df-e4874a95-2c98-4e62-8d5e-212a204dfee2')\"\n",
              "              title=\"Convert this dataframe to an interactive table.\"\n",
              "              style=\"display:none;\">\n",
              "        \n",
              "  <svg xmlns=\"http://www.w3.org/2000/svg\" height=\"24px\"viewBox=\"0 0 24 24\"\n",
              "       width=\"24px\">\n",
              "    <path d=\"M0 0h24v24H0V0z\" fill=\"none\"/>\n",
              "    <path d=\"M18.56 5.44l.94 2.06.94-2.06 2.06-.94-2.06-.94-.94-2.06-.94 2.06-2.06.94zm-11 1L8.5 8.5l.94-2.06 2.06-.94-2.06-.94L8.5 2.5l-.94 2.06-2.06.94zm10 10l.94 2.06.94-2.06 2.06-.94-2.06-.94-.94-2.06-.94 2.06-2.06.94z\"/><path d=\"M17.41 7.96l-1.37-1.37c-.4-.4-.92-.59-1.43-.59-.52 0-1.04.2-1.43.59L10.3 9.45l-7.72 7.72c-.78.78-.78 2.05 0 2.83L4 21.41c.39.39.9.59 1.41.59.51 0 1.02-.2 1.41-.59l7.78-7.78 2.81-2.81c.8-.78.8-2.07 0-2.86zM5.41 20L4 18.59l7.72-7.72 1.47 1.35L5.41 20z\"/>\n",
              "  </svg>\n",
              "      </button>\n",
              "      \n",
              "  <style>\n",
              "    .colab-df-container {\n",
              "      display:flex;\n",
              "      flex-wrap:wrap;\n",
              "      gap: 12px;\n",
              "    }\n",
              "\n",
              "    .colab-df-convert {\n",
              "      background-color: #E8F0FE;\n",
              "      border: none;\n",
              "      border-radius: 50%;\n",
              "      cursor: pointer;\n",
              "      display: none;\n",
              "      fill: #1967D2;\n",
              "      height: 32px;\n",
              "      padding: 0 0 0 0;\n",
              "      width: 32px;\n",
              "    }\n",
              "\n",
              "    .colab-df-convert:hover {\n",
              "      background-color: #E2EBFA;\n",
              "      box-shadow: 0px 1px 2px rgba(60, 64, 67, 0.3), 0px 1px 3px 1px rgba(60, 64, 67, 0.15);\n",
              "      fill: #174EA6;\n",
              "    }\n",
              "\n",
              "    [theme=dark] .colab-df-convert {\n",
              "      background-color: #3B4455;\n",
              "      fill: #D2E3FC;\n",
              "    }\n",
              "\n",
              "    [theme=dark] .colab-df-convert:hover {\n",
              "      background-color: #434B5C;\n",
              "      box-shadow: 0px 1px 3px 1px rgba(0, 0, 0, 0.15);\n",
              "      filter: drop-shadow(0px 1px 2px rgba(0, 0, 0, 0.3));\n",
              "      fill: #FFFFFF;\n",
              "    }\n",
              "  </style>\n",
              "\n",
              "      <script>\n",
              "        const buttonEl =\n",
              "          document.querySelector('#df-e4874a95-2c98-4e62-8d5e-212a204dfee2 button.colab-df-convert');\n",
              "        buttonEl.style.display =\n",
              "          google.colab.kernel.accessAllowed ? 'block' : 'none';\n",
              "\n",
              "        async function convertToInteractive(key) {\n",
              "          const element = document.querySelector('#df-e4874a95-2c98-4e62-8d5e-212a204dfee2');\n",
              "          const dataTable =\n",
              "            await google.colab.kernel.invokeFunction('convertToInteractive',\n",
              "                                                     [key], {});\n",
              "          if (!dataTable) return;\n",
              "\n",
              "          const docLinkHtml = 'Like what you see? Visit the ' +\n",
              "            '<a target=\"_blank\" href=https://colab.research.google.com/notebooks/data_table.ipynb>data table notebook</a>'\n",
              "            + ' to learn more about interactive tables.';\n",
              "          element.innerHTML = '';\n",
              "          dataTable['output_type'] = 'display_data';\n",
              "          await google.colab.output.renderOutput(dataTable, element);\n",
              "          const docLink = document.createElement('div');\n",
              "          docLink.innerHTML = docLinkHtml;\n",
              "          element.appendChild(docLink);\n",
              "        }\n",
              "      </script>\n",
              "    </div>\n",
              "  </div>\n",
              "  "
            ]
          },
          "metadata": {},
          "execution_count": 34
        }
      ]
    }
  ]
}